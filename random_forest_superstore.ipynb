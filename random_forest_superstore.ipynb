{
 "cells": [
  {
   "cell_type": "code",
   "execution_count": 1,
   "id": "280fdcfc",
   "metadata": {},
   "outputs": [
    {
     "name": "stdout",
     "output_type": "stream",
     "text": [
      "Requirement already satisfied: imbalanced-learn==0.9.0 in c:\\users\\administrator\\anaconda3\\envs\\mlenv\\lib\\site-packages (0.9.0)Note: you may need to restart the kernel to use updated packages.\n",
      "Requirement already satisfied: numpy>=1.14.6 in c:\\users\\administrator\\anaconda3\\envs\\mlenv\\lib\\site-packages (from imbalanced-learn==0.9.0) (1.21.5)\n",
      "Requirement already satisfied: threadpoolctl>=2.0.0 in c:\\users\\administrator\\anaconda3\\envs\\mlenv\\lib\\site-packages (from imbalanced-learn==0.9.0) (2.2.0)\n",
      "Requirement already satisfied: joblib>=0.11 in c:\\users\\administrator\\anaconda3\\envs\\mlenv\\lib\\site-packages (from imbalanced-learn==0.9.0) (1.1.0)\n",
      "Collecting scikit-learn>=1.0.1\n",
      "  Using cached scikit_learn-1.0.2-cp37-cp37m-win_amd64.whl (7.1 MB)\n",
      "Requirement already satisfied: scipy>=1.1.0 in c:\\users\\administrator\\anaconda3\\envs\\mlenv\\lib\\site-packages (from imbalanced-learn==0.9.0) (1.7.3)\n",
      "Installing collected packages: scikit-learn\n",
      "  Attempting uninstall: scikit-learn\n"
     ]
    },
    {
     "name": "stderr",
     "output_type": "stream",
     "text": [
      "ERROR: Could not install packages due to an OSError: [WinError 5] Access is denied: 'c:\\\\users\\\\administrator\\\\anaconda3\\\\envs\\\\mlenv\\\\lib\\\\site-packages\\\\~~learn\\\\.libs\\\\vcomp140.dll'\n",
      "Consider using the `--user` option or check the permissions.\n",
      "\n"
     ]
    },
    {
     "name": "stdout",
     "output_type": "stream",
     "text": [
      "\n",
      "    Found existing installation: scikit-learn 1.0\n",
      "    Uninstalling scikit-learn-1.0:\n",
      "      Successfully uninstalled scikit-learn-1.0\n"
     ]
    }
   ],
   "source": [
    "pip install imbalanced-learn==0.9.0"
   ]
  },
  {
   "cell_type": "code",
   "execution_count": 2,
   "id": "9aec326e",
   "metadata": {},
   "outputs": [
    {
     "name": "stdout",
     "output_type": "stream",
     "text": [
      "Collecting scikit-learn==1.0\n",
      "  Using cached scikit_learn-1.0-cp37-cp37m-win_amd64.whl (7.1 MB)\n",
      "Requirement already satisfied: threadpoolctl>=2.0.0 in c:\\users\\administrator\\anaconda3\\envs\\mlenv\\lib\\site-packages (from scikit-learn==1.0) (2.2.0)\n",
      "Requirement already satisfied: joblib>=0.11 in c:\\users\\administrator\\anaconda3\\envs\\mlenv\\lib\\site-packages (from scikit-learn==1.0) (1.1.0)\n",
      "Requirement already satisfied: scipy>=1.1.0 in c:\\users\\administrator\\anaconda3\\envs\\mlenv\\lib\\site-packages (from scikit-learn==1.0) (1.7.3)\n",
      "Requirement already satisfied: numpy>=1.14.6 in c:\\users\\administrator\\anaconda3\\envs\\mlenv\\lib\\site-packages (from scikit-learn==1.0) (1.21.5)\n",
      "Installing collected packages: scikit-learn\n",
      "  Attempting uninstall: scikit-learn\n",
      "    Found existing installation: scikit-learn 1.0.2\n",
      "    Uninstalling scikit-learn-1.0.2:\n",
      "      Successfully uninstalled scikit-learn-1.0.2\n",
      "Successfully installed scikit-learn-1.0\n",
      "Note: you may need to restart the kernel to use updated packages.\n"
     ]
    },
    {
     "name": "stderr",
     "output_type": "stream",
     "text": [
      "ERROR: pip's dependency resolver does not currently take into account all the packages that are installed. This behaviour is the source of the following dependency conflicts.\n",
      "imbalanced-learn 0.9.0 requires scikit-learn>=1.0.1, but you have scikit-learn 1.0 which is incompatible.\n"
     ]
    }
   ],
   "source": [
    "pip install scikit-learn==1.0"
   ]
  },
  {
   "cell_type": "code",
   "execution_count": 3,
   "id": "92a91b8a",
   "metadata": {},
   "outputs": [],
   "source": [
    "import warnings\n",
    "warnings.filterwarnings('ignore')"
   ]
  },
  {
   "cell_type": "code",
   "execution_count": 4,
   "id": "349dfa99",
   "metadata": {},
   "outputs": [],
   "source": [
    "import numpy as np\n",
    "import pandas as pd\n",
    "from pathlib import Path\n",
    "from collections import Counter"
   ]
  },
  {
   "cell_type": "code",
   "execution_count": 5,
   "id": "7381d536",
   "metadata": {},
   "outputs": [],
   "source": [
    "from sklearn.ensemble import RandomForestClassifier\n",
    "from sklearn.preprocessing import StandardScaler\n",
    "from sklearn.model_selection import train_test_split\n",
    "from sklearn.metrics import confusion_matrix, accuracy_score, classification_report"
   ]
  },
  {
   "cell_type": "code",
   "execution_count": 6,
   "id": "65d5a257",
   "metadata": {},
   "outputs": [
    {
     "data": {
      "text/html": [
       "<div>\n",
       "<style scoped>\n",
       "    .dataframe tbody tr th:only-of-type {\n",
       "        vertical-align: middle;\n",
       "    }\n",
       "\n",
       "    .dataframe tbody tr th {\n",
       "        vertical-align: top;\n",
       "    }\n",
       "\n",
       "    .dataframe thead th {\n",
       "        text-align: right;\n",
       "    }\n",
       "</style>\n",
       "<table border=\"1\" class=\"dataframe\">\n",
       "  <thead>\n",
       "    <tr style=\"text-align: right;\">\n",
       "      <th></th>\n",
       "      <th>Unnamed: 0</th>\n",
       "      <th>Row ID</th>\n",
       "      <th>Order ID</th>\n",
       "      <th>Order Date</th>\n",
       "      <th>Ship Date</th>\n",
       "      <th>Ship Mode</th>\n",
       "      <th>Customer ID</th>\n",
       "      <th>Customer Name</th>\n",
       "      <th>Segment</th>\n",
       "      <th>City</th>\n",
       "      <th>...</th>\n",
       "      <th>Quantity</th>\n",
       "      <th>Discount</th>\n",
       "      <th>Profit</th>\n",
       "      <th>Shipping Cost</th>\n",
       "      <th>Order Priority</th>\n",
       "      <th>Year</th>\n",
       "      <th>Month_Year</th>\n",
       "      <th>Discount_percentage</th>\n",
       "      <th>Selling Price Per Unit</th>\n",
       "      <th>Cost Price Per Unit</th>\n",
       "    </tr>\n",
       "  </thead>\n",
       "  <tbody>\n",
       "    <tr>\n",
       "      <th>0</th>\n",
       "      <td>7</td>\n",
       "      <td>34662</td>\n",
       "      <td>CA-2011-115161</td>\n",
       "      <td>2011-01-02</td>\n",
       "      <td>2011-03-02</td>\n",
       "      <td>First Class</td>\n",
       "      <td>LC-17050</td>\n",
       "      <td>Liz Carlisle</td>\n",
       "      <td>Consumer</td>\n",
       "      <td>Mission Viejo</td>\n",
       "      <td>...</td>\n",
       "      <td>2</td>\n",
       "      <td>0.15</td>\n",
       "      <td>3.4196</td>\n",
       "      <td>54.64</td>\n",
       "      <td>High</td>\n",
       "      <td>2011</td>\n",
       "      <td>2011-01</td>\n",
       "      <td>15.0</td>\n",
       "      <td>145.333</td>\n",
       "      <td>143.6232</td>\n",
       "    </tr>\n",
       "    <tr>\n",
       "      <th>1</th>\n",
       "      <td>27</td>\n",
       "      <td>37844</td>\n",
       "      <td>CA-2011-113880</td>\n",
       "      <td>2011-01-03</td>\n",
       "      <td>2011-05-03</td>\n",
       "      <td>Standard Class</td>\n",
       "      <td>VF-21715</td>\n",
       "      <td>Vicky Freymann</td>\n",
       "      <td>Home Office</td>\n",
       "      <td>Elmhurst</td>\n",
       "      <td>...</td>\n",
       "      <td>6</td>\n",
       "      <td>0.30</td>\n",
       "      <td>-172.1172</td>\n",
       "      <td>70.05</td>\n",
       "      <td>High</td>\n",
       "      <td>2011</td>\n",
       "      <td>2011-01</td>\n",
       "      <td>30.0</td>\n",
       "      <td>105.686</td>\n",
       "      <td>134.3722</td>\n",
       "    </tr>\n",
       "    <tr>\n",
       "      <th>2</th>\n",
       "      <td>32</td>\n",
       "      <td>31454</td>\n",
       "      <td>CA-2011-104269</td>\n",
       "      <td>2011-01-03</td>\n",
       "      <td>2011-06-03</td>\n",
       "      <td>Second Class</td>\n",
       "      <td>DB-13060</td>\n",
       "      <td>Dave Brooks</td>\n",
       "      <td>Consumer</td>\n",
       "      <td>Seattle</td>\n",
       "      <td>...</td>\n",
       "      <td>2</td>\n",
       "      <td>0.20</td>\n",
       "      <td>51.4764</td>\n",
       "      <td>47.89</td>\n",
       "      <td>Medium</td>\n",
       "      <td>2011</td>\n",
       "      <td>2011-01</td>\n",
       "      <td>20.0</td>\n",
       "      <td>228.784</td>\n",
       "      <td>203.0458</td>\n",
       "    </tr>\n",
       "    <tr>\n",
       "      <th>3</th>\n",
       "      <td>34</td>\n",
       "      <td>39607</td>\n",
       "      <td>CA-2011-168312</td>\n",
       "      <td>2011-01-03</td>\n",
       "      <td>2011-07-03</td>\n",
       "      <td>Standard Class</td>\n",
       "      <td>GW-14605</td>\n",
       "      <td>Giulietta Weimer</td>\n",
       "      <td>Consumer</td>\n",
       "      <td>Houston</td>\n",
       "      <td>...</td>\n",
       "      <td>3</td>\n",
       "      <td>0.30</td>\n",
       "      <td>-43.0296</td>\n",
       "      <td>32.70</td>\n",
       "      <td>Medium</td>\n",
       "      <td>2011</td>\n",
       "      <td>2011-01</td>\n",
       "      <td>30.0</td>\n",
       "      <td>125.503</td>\n",
       "      <td>139.8462</td>\n",
       "    </tr>\n",
       "    <tr>\n",
       "      <th>4</th>\n",
       "      <td>36</td>\n",
       "      <td>39245</td>\n",
       "      <td>CA-2011-131009</td>\n",
       "      <td>2011-01-03</td>\n",
       "      <td>2011-05-03</td>\n",
       "      <td>Standard Class</td>\n",
       "      <td>SC-20380</td>\n",
       "      <td>Shahid Collister</td>\n",
       "      <td>Consumer</td>\n",
       "      <td>El Paso</td>\n",
       "      <td>...</td>\n",
       "      <td>6</td>\n",
       "      <td>0.30</td>\n",
       "      <td>0.0000</td>\n",
       "      <td>25.22</td>\n",
       "      <td>Medium</td>\n",
       "      <td>2011</td>\n",
       "      <td>2011-01</td>\n",
       "      <td>30.0</td>\n",
       "      <td>60.375</td>\n",
       "      <td>60.3750</td>\n",
       "    </tr>\n",
       "  </tbody>\n",
       "</table>\n",
       "<p>5 rows × 30 columns</p>\n",
       "</div>"
      ],
      "text/plain": [
       "   Unnamed: 0  Row ID        Order ID  Order Date   Ship Date       Ship Mode  \\\n",
       "0           7   34662  CA-2011-115161  2011-01-02  2011-03-02     First Class   \n",
       "1          27   37844  CA-2011-113880  2011-01-03  2011-05-03  Standard Class   \n",
       "2          32   31454  CA-2011-104269  2011-01-03  2011-06-03    Second Class   \n",
       "3          34   39607  CA-2011-168312  2011-01-03  2011-07-03  Standard Class   \n",
       "4          36   39245  CA-2011-131009  2011-01-03  2011-05-03  Standard Class   \n",
       "\n",
       "  Customer ID     Customer Name      Segment           City  ... Quantity  \\\n",
       "0    LC-17050      Liz Carlisle     Consumer  Mission Viejo  ...        2   \n",
       "1    VF-21715    Vicky Freymann  Home Office       Elmhurst  ...        6   \n",
       "2    DB-13060       Dave Brooks     Consumer        Seattle  ...        2   \n",
       "3    GW-14605  Giulietta Weimer     Consumer        Houston  ...        3   \n",
       "4    SC-20380  Shahid Collister     Consumer        El Paso  ...        6   \n",
       "\n",
       "  Discount    Profit Shipping Cost Order Priority  Year Month_Year  \\\n",
       "0     0.15    3.4196         54.64           High  2011    2011-01   \n",
       "1     0.30 -172.1172         70.05           High  2011    2011-01   \n",
       "2     0.20   51.4764         47.89         Medium  2011    2011-01   \n",
       "3     0.30  -43.0296         32.70         Medium  2011    2011-01   \n",
       "4     0.30    0.0000         25.22         Medium  2011    2011-01   \n",
       "\n",
       "  Discount_percentage Selling Price Per Unit  Cost Price Per Unit  \n",
       "0                15.0                145.333             143.6232  \n",
       "1                30.0                105.686             134.3722  \n",
       "2                20.0                228.784             203.0458  \n",
       "3                30.0                125.503             139.8462  \n",
       "4                30.0                 60.375              60.3750  \n",
       "\n",
       "[5 rows x 30 columns]"
      ]
     },
     "execution_count": 6,
     "metadata": {},
     "output_type": "execute_result"
    }
   ],
   "source": [
    "# Files to load\n",
    "file_to_load = \"Resources/cleaned_us_data.csv\"\n",
    "# Read the CSV into a DataFrame\n",
    "us_data_df = pd.read_csv(file_to_load)\n",
    "us_data_df .head()"
   ]
  },
  {
   "cell_type": "code",
   "execution_count": 7,
   "id": "d1af51a2",
   "metadata": {},
   "outputs": [
    {
     "data": {
      "text/plain": [
       "Index(['Unnamed: 0', 'Row ID', 'Order ID', 'Order Date', 'Ship Date',\n",
       "       'Ship Mode', 'Customer ID', 'Customer Name', 'Segment', 'City', 'State',\n",
       "       'Country', 'Postal Code', 'Market', 'Region', 'Product ID', 'Category',\n",
       "       'Sub-Category', 'Product Name', 'Sales', 'Quantity', 'Discount',\n",
       "       'Profit', 'Shipping Cost', 'Order Priority', 'Year', 'Month_Year',\n",
       "       'Discount_percentage', 'Selling Price Per Unit', 'Cost Price Per Unit'],\n",
       "      dtype='object')"
      ]
     },
     "execution_count": 7,
     "metadata": {},
     "output_type": "execute_result"
    }
   ],
   "source": [
    "us_data_df.columns"
   ]
  },
  {
   "cell_type": "code",
   "execution_count": 8,
   "id": "e35f528e",
   "metadata": {},
   "outputs": [
    {
     "data": {
      "text/html": [
       "<div>\n",
       "<style scoped>\n",
       "    .dataframe tbody tr th:only-of-type {\n",
       "        vertical-align: middle;\n",
       "    }\n",
       "\n",
       "    .dataframe tbody tr th {\n",
       "        vertical-align: top;\n",
       "    }\n",
       "\n",
       "    .dataframe thead th {\n",
       "        text-align: right;\n",
       "    }\n",
       "</style>\n",
       "<table border=\"1\" class=\"dataframe\">\n",
       "  <thead>\n",
       "    <tr style=\"text-align: right;\">\n",
       "      <th></th>\n",
       "      <th>Profit</th>\n",
       "      <th>Shipping Cost</th>\n",
       "      <th>Sales</th>\n",
       "      <th>Segment_Consumer</th>\n",
       "      <th>Segment_Corporate</th>\n",
       "      <th>Segment_Home Office</th>\n",
       "      <th>Ship Mode_First Class</th>\n",
       "      <th>Ship Mode_Same Day</th>\n",
       "      <th>Ship Mode_Second Class</th>\n",
       "      <th>Ship Mode_Standard Class</th>\n",
       "      <th>Order Priority_Critical</th>\n",
       "      <th>Order Priority_High</th>\n",
       "      <th>Order Priority_Low</th>\n",
       "      <th>Order Priority_Medium</th>\n",
       "    </tr>\n",
       "  </thead>\n",
       "  <tbody>\n",
       "    <tr>\n",
       "      <th>0</th>\n",
       "      <td>3.4196</td>\n",
       "      <td>54.64</td>\n",
       "      <td>290.666</td>\n",
       "      <td>1</td>\n",
       "      <td>0</td>\n",
       "      <td>0</td>\n",
       "      <td>1</td>\n",
       "      <td>0</td>\n",
       "      <td>0</td>\n",
       "      <td>0</td>\n",
       "      <td>0</td>\n",
       "      <td>1</td>\n",
       "      <td>0</td>\n",
       "      <td>0</td>\n",
       "    </tr>\n",
       "    <tr>\n",
       "      <th>1</th>\n",
       "      <td>-172.1172</td>\n",
       "      <td>70.05</td>\n",
       "      <td>634.116</td>\n",
       "      <td>0</td>\n",
       "      <td>0</td>\n",
       "      <td>1</td>\n",
       "      <td>0</td>\n",
       "      <td>0</td>\n",
       "      <td>0</td>\n",
       "      <td>1</td>\n",
       "      <td>0</td>\n",
       "      <td>1</td>\n",
       "      <td>0</td>\n",
       "      <td>0</td>\n",
       "    </tr>\n",
       "    <tr>\n",
       "      <th>2</th>\n",
       "      <td>51.4764</td>\n",
       "      <td>47.89</td>\n",
       "      <td>457.568</td>\n",
       "      <td>1</td>\n",
       "      <td>0</td>\n",
       "      <td>0</td>\n",
       "      <td>0</td>\n",
       "      <td>0</td>\n",
       "      <td>1</td>\n",
       "      <td>0</td>\n",
       "      <td>0</td>\n",
       "      <td>0</td>\n",
       "      <td>0</td>\n",
       "      <td>1</td>\n",
       "    </tr>\n",
       "    <tr>\n",
       "      <th>3</th>\n",
       "      <td>-43.0296</td>\n",
       "      <td>32.70</td>\n",
       "      <td>376.509</td>\n",
       "      <td>1</td>\n",
       "      <td>0</td>\n",
       "      <td>0</td>\n",
       "      <td>0</td>\n",
       "      <td>0</td>\n",
       "      <td>0</td>\n",
       "      <td>1</td>\n",
       "      <td>0</td>\n",
       "      <td>0</td>\n",
       "      <td>0</td>\n",
       "      <td>1</td>\n",
       "    </tr>\n",
       "    <tr>\n",
       "      <th>4</th>\n",
       "      <td>0.0000</td>\n",
       "      <td>25.22</td>\n",
       "      <td>362.250</td>\n",
       "      <td>1</td>\n",
       "      <td>0</td>\n",
       "      <td>0</td>\n",
       "      <td>0</td>\n",
       "      <td>0</td>\n",
       "      <td>0</td>\n",
       "      <td>1</td>\n",
       "      <td>0</td>\n",
       "      <td>0</td>\n",
       "      <td>0</td>\n",
       "      <td>1</td>\n",
       "    </tr>\n",
       "  </tbody>\n",
       "</table>\n",
       "</div>"
      ],
      "text/plain": [
       "     Profit  Shipping Cost    Sales  Segment_Consumer  Segment_Corporate  \\\n",
       "0    3.4196          54.64  290.666                 1                  0   \n",
       "1 -172.1172          70.05  634.116                 0                  0   \n",
       "2   51.4764          47.89  457.568                 1                  0   \n",
       "3  -43.0296          32.70  376.509                 1                  0   \n",
       "4    0.0000          25.22  362.250                 1                  0   \n",
       "\n",
       "   Segment_Home Office  Ship Mode_First Class  Ship Mode_Same Day  \\\n",
       "0                    0                      1                   0   \n",
       "1                    1                      0                   0   \n",
       "2                    0                      0                   0   \n",
       "3                    0                      0                   0   \n",
       "4                    0                      0                   0   \n",
       "\n",
       "   Ship Mode_Second Class  Ship Mode_Standard Class  Order Priority_Critical  \\\n",
       "0                       0                         0                        0   \n",
       "1                       0                         1                        0   \n",
       "2                       1                         0                        0   \n",
       "3                       0                         1                        0   \n",
       "4                       0                         1                        0   \n",
       "\n",
       "   Order Priority_High  Order Priority_Low  Order Priority_Medium  \n",
       "0                    1                   0                      0  \n",
       "1                    1                   0                      0  \n",
       "2                    0                   0                      1  \n",
       "3                    0                   0                      1  \n",
       "4                    0                   0                      1  "
      ]
     },
     "execution_count": 8,
     "metadata": {},
     "output_type": "execute_result"
    }
   ],
   "source": [
    "# Define features set\n",
    "X = us_data_df[[\"Segment\", \"Profit\",\n",
    "            \"Shipping Cost\", \"Sales\",\"Ship Mode\",\"Order Priority\"]]\n",
    "X = pd.get_dummies(X, columns= [\"Segment\",\"Ship Mode\", \"Order Priority\"])\n",
    "X.head()"
   ]
  },
  {
   "cell_type": "code",
   "execution_count": 9,
   "id": "2398f1b1",
   "metadata": {},
   "outputs": [],
   "source": [
    "# # Binary encoding using Pandas (multiple columns)\n",
    "# X_encoded = pd.get_dummies(X, columns=[ \"Category\", \"Sub-Category\", \"Year\"])\n",
    "# X_encoded.head()"
   ]
  },
  {
   "cell_type": "code",
   "execution_count": 10,
   "id": "40c59d16",
   "metadata": {},
   "outputs": [
    {
     "data": {
      "text/plain": [
       "array([2, 6, 2, 3, 6], dtype=int64)"
      ]
     },
     "execution_count": 10,
     "metadata": {},
     "output_type": "execute_result"
    }
   ],
   "source": [
    "# Define target vector\n",
    "y = us_data_df[\"Quantity\"].ravel()\n",
    "y[:5]"
   ]
  },
  {
   "cell_type": "code",
   "execution_count": 11,
   "id": "73e78670",
   "metadata": {},
   "outputs": [
    {
     "ename": "NameError",
     "evalue": "name 'y_transformed' is not defined",
     "output_type": "error",
     "traceback": [
      "\u001b[1;31m---------------------------------------------------------------------------\u001b[0m",
      "\u001b[1;31mNameError\u001b[0m                                 Traceback (most recent call last)",
      "\u001b[1;32m~\\AppData\\Local\\Temp\\ipykernel_11032\\2402850659.py\u001b[0m in \u001b[0;36m<module>\u001b[1;34m\u001b[0m\n\u001b[0;32m      3\u001b[0m \u001b[1;33m\u001b[0m\u001b[0m\n\u001b[0;32m      4\u001b[0m X_train, X_test, y_train, y_test = train_test_split(X, \n\u001b[1;32m----> 5\u001b[1;33m                                                     \u001b[0my_transformed\u001b[0m\u001b[1;33m,\u001b[0m\u001b[1;33m\u001b[0m\u001b[1;33m\u001b[0m\u001b[0m\n\u001b[0m\u001b[0;32m      6\u001b[0m                                                     \u001b[0mrandom_state\u001b[0m\u001b[1;33m=\u001b[0m\u001b[1;36m1\u001b[0m\u001b[1;33m,\u001b[0m\u001b[1;33m\u001b[0m\u001b[1;33m\u001b[0m\u001b[0m\n\u001b[0;32m      7\u001b[0m                                                     stratify=y)\n",
      "\u001b[1;31mNameError\u001b[0m: name 'y_transformed' is not defined"
     ]
    }
   ],
   "source": [
    "# Split our data into training and testing\n",
    "from sklearn.model_selection import train_test_split\n",
    "\n",
    "X_train, X_test, y_train, y_test = train_test_split(X, \n",
    "                                                    y_transformed, \n",
    "                                                    random_state=1, \n",
    "                                                    stratify=y)\n",
    "X_train.shape"
   ]
  },
  {
   "cell_type": "code",
   "execution_count": null,
   "id": "81ad6159",
   "metadata": {},
   "outputs": [],
   "source": [
    "# Creating StandardScaler instance\n",
    "scaler = StandardScaler()"
   ]
  },
  {
   "cell_type": "code",
   "execution_count": null,
   "id": "fd03261d",
   "metadata": {},
   "outputs": [],
   "source": [
    "# Fitting Standard Scaller\n",
    "X_scaler = scaler.fit(X_train)"
   ]
  },
  {
   "cell_type": "code",
   "execution_count": null,
   "id": "d57ee2b0",
   "metadata": {},
   "outputs": [],
   "source": [
    "# Scaling data\n",
    "X_train_scaled = X_scaler.transform(X_train)\n",
    "X_test_scaled = X_scaler.transform(X_test)"
   ]
  },
  {
   "cell_type": "code",
   "execution_count": null,
   "id": "ff9b053a",
   "metadata": {},
   "outputs": [],
   "source": [
    "# Create a random forest classifier.\n",
    "rf_model = RandomForestClassifier(n_estimators=5, random_state=78) \n",
    "# Fitting the model\n",
    "rf_model = rf_model.fit(X_train_scaled, y_train)"
   ]
  },
  {
   "cell_type": "code",
   "execution_count": null,
   "id": "09ee42e5",
   "metadata": {},
   "outputs": [],
   "source": [
    "# The model creates predicted y values based on X values\n",
    "predictions = rf_model.predict(X_test_scaled)\n",
    "predictions.shape"
   ]
  },
  {
   "cell_type": "code",
   "execution_count": null,
   "id": "3dd7454a",
   "metadata": {},
   "outputs": [],
   "source": [
    "# Calculating the confusion matrix\n",
    "cm = confusion_matrix(y_test, predictions)\n",
    "cm"
   ]
  },
  {
   "cell_type": "code",
   "execution_count": null,
   "id": "ec0eb897",
   "metadata": {},
   "outputs": [],
   "source": [
    "# Calculating the accuracy score\n",
    "acc_score = accuracy_score(y_test, predictions)\n",
    "acc_score"
   ]
  },
  {
   "cell_type": "code",
   "execution_count": null,
   "id": "235d0837",
   "metadata": {},
   "outputs": [],
   "source": [
    "print(\"Classification Report\")\n",
    "print(classification_report(y_test, predictions))"
   ]
  },
  {
   "cell_type": "code",
   "execution_count": null,
   "id": "831a8410",
   "metadata": {},
   "outputs": [],
   "source": []
  }
 ],
 "metadata": {
  "kernelspec": {
   "display_name": "mlenv",
   "language": "python",
   "name": "mlenv"
  },
  "language_info": {
   "codemirror_mode": {
    "name": "ipython",
    "version": 3
   },
   "file_extension": ".py",
   "mimetype": "text/x-python",
   "name": "python",
   "nbconvert_exporter": "python",
   "pygments_lexer": "ipython3",
   "version": "3.7.13"
  }
 },
 "nbformat": 4,
 "nbformat_minor": 5
}
