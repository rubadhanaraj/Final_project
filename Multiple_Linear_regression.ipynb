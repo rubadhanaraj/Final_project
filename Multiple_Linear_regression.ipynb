{
 "cells": [
  {
   "cell_type": "markdown",
   "id": "73251332",
   "metadata": {},
   "source": [
    "# Linear Regression"
   ]
  },
  {
   "cell_type": "code",
   "execution_count": 3,
   "id": "451519d1",
   "metadata": {},
   "outputs": [],
   "source": [
    "import pandas as pd\n",
    "from pathlib import Path\n",
    "import matplotlib.pyplot as plt\n",
    "from sklearn.linear_model import LinearRegression"
   ]
  },
  {
   "cell_type": "code",
   "execution_count": 2,
   "id": "b3cf2ecb",
   "metadata": {},
   "outputs": [
    {
     "data": {
      "text/html": [
       "<div>\n",
       "<style scoped>\n",
       "    .dataframe tbody tr th:only-of-type {\n",
       "        vertical-align: middle;\n",
       "    }\n",
       "\n",
       "    .dataframe tbody tr th {\n",
       "        vertical-align: top;\n",
       "    }\n",
       "\n",
       "    .dataframe thead th {\n",
       "        text-align: right;\n",
       "    }\n",
       "</style>\n",
       "<table border=\"1\" class=\"dataframe\">\n",
       "  <thead>\n",
       "    <tr style=\"text-align: right;\">\n",
       "      <th></th>\n",
       "      <th>Unnamed: 0</th>\n",
       "      <th>Row ID</th>\n",
       "      <th>Order ID</th>\n",
       "      <th>Order Date</th>\n",
       "      <th>Ship Date</th>\n",
       "      <th>Ship Mode</th>\n",
       "      <th>Customer ID</th>\n",
       "      <th>Customer Name</th>\n",
       "      <th>Segment</th>\n",
       "      <th>City</th>\n",
       "      <th>...</th>\n",
       "      <th>Quantity</th>\n",
       "      <th>Discount</th>\n",
       "      <th>Profit</th>\n",
       "      <th>Shipping Cost</th>\n",
       "      <th>Order Priority</th>\n",
       "      <th>Year</th>\n",
       "      <th>Month_Year</th>\n",
       "      <th>Discount_percentage</th>\n",
       "      <th>Selling Price Per Unit</th>\n",
       "      <th>Cost Price Per Unit</th>\n",
       "    </tr>\n",
       "  </thead>\n",
       "  <tbody>\n",
       "    <tr>\n",
       "      <th>0</th>\n",
       "      <td>7</td>\n",
       "      <td>34662</td>\n",
       "      <td>CA-2011-115161</td>\n",
       "      <td>2011-01-02</td>\n",
       "      <td>2011-03-02</td>\n",
       "      <td>First Class</td>\n",
       "      <td>LC-17050</td>\n",
       "      <td>Liz Carlisle</td>\n",
       "      <td>Consumer</td>\n",
       "      <td>Mission Viejo</td>\n",
       "      <td>...</td>\n",
       "      <td>2</td>\n",
       "      <td>0.15</td>\n",
       "      <td>3.4196</td>\n",
       "      <td>54.64</td>\n",
       "      <td>High</td>\n",
       "      <td>2011</td>\n",
       "      <td>2011-01</td>\n",
       "      <td>15.0</td>\n",
       "      <td>145.333</td>\n",
       "      <td>143.6232</td>\n",
       "    </tr>\n",
       "    <tr>\n",
       "      <th>1</th>\n",
       "      <td>27</td>\n",
       "      <td>37844</td>\n",
       "      <td>CA-2011-113880</td>\n",
       "      <td>2011-01-03</td>\n",
       "      <td>2011-05-03</td>\n",
       "      <td>Standard Class</td>\n",
       "      <td>VF-21715</td>\n",
       "      <td>Vicky Freymann</td>\n",
       "      <td>Home Office</td>\n",
       "      <td>Elmhurst</td>\n",
       "      <td>...</td>\n",
       "      <td>6</td>\n",
       "      <td>0.30</td>\n",
       "      <td>-172.1172</td>\n",
       "      <td>70.05</td>\n",
       "      <td>High</td>\n",
       "      <td>2011</td>\n",
       "      <td>2011-01</td>\n",
       "      <td>30.0</td>\n",
       "      <td>105.686</td>\n",
       "      <td>134.3722</td>\n",
       "    </tr>\n",
       "    <tr>\n",
       "      <th>2</th>\n",
       "      <td>32</td>\n",
       "      <td>31454</td>\n",
       "      <td>CA-2011-104269</td>\n",
       "      <td>2011-01-03</td>\n",
       "      <td>2011-06-03</td>\n",
       "      <td>Second Class</td>\n",
       "      <td>DB-13060</td>\n",
       "      <td>Dave Brooks</td>\n",
       "      <td>Consumer</td>\n",
       "      <td>Seattle</td>\n",
       "      <td>...</td>\n",
       "      <td>2</td>\n",
       "      <td>0.20</td>\n",
       "      <td>51.4764</td>\n",
       "      <td>47.89</td>\n",
       "      <td>Medium</td>\n",
       "      <td>2011</td>\n",
       "      <td>2011-01</td>\n",
       "      <td>20.0</td>\n",
       "      <td>228.784</td>\n",
       "      <td>203.0458</td>\n",
       "    </tr>\n",
       "    <tr>\n",
       "      <th>3</th>\n",
       "      <td>34</td>\n",
       "      <td>39607</td>\n",
       "      <td>CA-2011-168312</td>\n",
       "      <td>2011-01-03</td>\n",
       "      <td>2011-07-03</td>\n",
       "      <td>Standard Class</td>\n",
       "      <td>GW-14605</td>\n",
       "      <td>Giulietta Weimer</td>\n",
       "      <td>Consumer</td>\n",
       "      <td>Houston</td>\n",
       "      <td>...</td>\n",
       "      <td>3</td>\n",
       "      <td>0.30</td>\n",
       "      <td>-43.0296</td>\n",
       "      <td>32.70</td>\n",
       "      <td>Medium</td>\n",
       "      <td>2011</td>\n",
       "      <td>2011-01</td>\n",
       "      <td>30.0</td>\n",
       "      <td>125.503</td>\n",
       "      <td>139.8462</td>\n",
       "    </tr>\n",
       "    <tr>\n",
       "      <th>4</th>\n",
       "      <td>36</td>\n",
       "      <td>39245</td>\n",
       "      <td>CA-2011-131009</td>\n",
       "      <td>2011-01-03</td>\n",
       "      <td>2011-05-03</td>\n",
       "      <td>Standard Class</td>\n",
       "      <td>SC-20380</td>\n",
       "      <td>Shahid Collister</td>\n",
       "      <td>Consumer</td>\n",
       "      <td>El Paso</td>\n",
       "      <td>...</td>\n",
       "      <td>6</td>\n",
       "      <td>0.30</td>\n",
       "      <td>0.0000</td>\n",
       "      <td>25.22</td>\n",
       "      <td>Medium</td>\n",
       "      <td>2011</td>\n",
       "      <td>2011-01</td>\n",
       "      <td>30.0</td>\n",
       "      <td>60.375</td>\n",
       "      <td>60.3750</td>\n",
       "    </tr>\n",
       "  </tbody>\n",
       "</table>\n",
       "<p>5 rows × 30 columns</p>\n",
       "</div>"
      ],
      "text/plain": [
       "   Unnamed: 0  Row ID        Order ID  Order Date   Ship Date       Ship Mode  \\\n",
       "0           7   34662  CA-2011-115161  2011-01-02  2011-03-02     First Class   \n",
       "1          27   37844  CA-2011-113880  2011-01-03  2011-05-03  Standard Class   \n",
       "2          32   31454  CA-2011-104269  2011-01-03  2011-06-03    Second Class   \n",
       "3          34   39607  CA-2011-168312  2011-01-03  2011-07-03  Standard Class   \n",
       "4          36   39245  CA-2011-131009  2011-01-03  2011-05-03  Standard Class   \n",
       "\n",
       "  Customer ID     Customer Name      Segment           City  ... Quantity  \\\n",
       "0    LC-17050      Liz Carlisle     Consumer  Mission Viejo  ...        2   \n",
       "1    VF-21715    Vicky Freymann  Home Office       Elmhurst  ...        6   \n",
       "2    DB-13060       Dave Brooks     Consumer        Seattle  ...        2   \n",
       "3    GW-14605  Giulietta Weimer     Consumer        Houston  ...        3   \n",
       "4    SC-20380  Shahid Collister     Consumer        El Paso  ...        6   \n",
       "\n",
       "  Discount    Profit Shipping Cost Order Priority  Year Month_Year  \\\n",
       "0     0.15    3.4196         54.64           High  2011    2011-01   \n",
       "1     0.30 -172.1172         70.05           High  2011    2011-01   \n",
       "2     0.20   51.4764         47.89         Medium  2011    2011-01   \n",
       "3     0.30  -43.0296         32.70         Medium  2011    2011-01   \n",
       "4     0.30    0.0000         25.22         Medium  2011    2011-01   \n",
       "\n",
       "  Discount_percentage Selling Price Per Unit  Cost Price Per Unit  \n",
       "0                15.0                145.333             143.6232  \n",
       "1                30.0                105.686             134.3722  \n",
       "2                20.0                228.784             203.0458  \n",
       "3                30.0                125.503             139.8462  \n",
       "4                30.0                 60.375              60.3750  \n",
       "\n",
       "[5 rows x 30 columns]"
      ]
     },
     "execution_count": 2,
     "metadata": {},
     "output_type": "execute_result"
    }
   ],
   "source": [
    "df = pd.read_csv(Path('Resources/cleaned_us_data.csv'))\n",
    "df.head()"
   ]
  },
  {
   "cell_type": "code",
   "execution_count": 3,
   "id": "a6e29d01",
   "metadata": {},
   "outputs": [
    {
     "data": {
      "text/html": [
       "<div>\n",
       "<style scoped>\n",
       "    .dataframe tbody tr th:only-of-type {\n",
       "        vertical-align: middle;\n",
       "    }\n",
       "\n",
       "    .dataframe tbody tr th {\n",
       "        vertical-align: top;\n",
       "    }\n",
       "\n",
       "    .dataframe thead th {\n",
       "        text-align: right;\n",
       "    }\n",
       "</style>\n",
       "<table border=\"1\" class=\"dataframe\">\n",
       "  <thead>\n",
       "    <tr style=\"text-align: right;\">\n",
       "      <th></th>\n",
       "      <th>Unnamed: 0</th>\n",
       "      <th>Row ID</th>\n",
       "      <th>Order ID</th>\n",
       "      <th>Order Date</th>\n",
       "      <th>Ship Date</th>\n",
       "      <th>Ship Mode</th>\n",
       "      <th>Customer ID</th>\n",
       "      <th>Customer Name</th>\n",
       "      <th>Segment</th>\n",
       "      <th>City</th>\n",
       "      <th>...</th>\n",
       "      <th>Quantity</th>\n",
       "      <th>Discount</th>\n",
       "      <th>Profit</th>\n",
       "      <th>Shipping Cost</th>\n",
       "      <th>Order Priority</th>\n",
       "      <th>Year</th>\n",
       "      <th>Month_Year</th>\n",
       "      <th>Discount_percentage</th>\n",
       "      <th>Selling Price Per Unit</th>\n",
       "      <th>Cost Price Per Unit</th>\n",
       "    </tr>\n",
       "  </thead>\n",
       "  <tbody>\n",
       "    <tr>\n",
       "      <th>0</th>\n",
       "      <td>7</td>\n",
       "      <td>34662</td>\n",
       "      <td>CA-2011-115161</td>\n",
       "      <td>2011-01-02</td>\n",
       "      <td>2011-03-02</td>\n",
       "      <td>First Class</td>\n",
       "      <td>LC-17050</td>\n",
       "      <td>Liz Carlisle</td>\n",
       "      <td>Consumer</td>\n",
       "      <td>Mission Viejo</td>\n",
       "      <td>...</td>\n",
       "      <td>2</td>\n",
       "      <td>0.15</td>\n",
       "      <td>3.4196</td>\n",
       "      <td>54.64</td>\n",
       "      <td>High</td>\n",
       "      <td>2011</td>\n",
       "      <td>2011-01</td>\n",
       "      <td>15.0</td>\n",
       "      <td>145.333</td>\n",
       "      <td>143.6232</td>\n",
       "    </tr>\n",
       "    <tr>\n",
       "      <th>1</th>\n",
       "      <td>27</td>\n",
       "      <td>37844</td>\n",
       "      <td>CA-2011-113880</td>\n",
       "      <td>2011-01-03</td>\n",
       "      <td>2011-05-03</td>\n",
       "      <td>Standard Class</td>\n",
       "      <td>VF-21715</td>\n",
       "      <td>Vicky Freymann</td>\n",
       "      <td>Home Office</td>\n",
       "      <td>Elmhurst</td>\n",
       "      <td>...</td>\n",
       "      <td>6</td>\n",
       "      <td>0.30</td>\n",
       "      <td>-172.1172</td>\n",
       "      <td>70.05</td>\n",
       "      <td>High</td>\n",
       "      <td>2011</td>\n",
       "      <td>2011-01</td>\n",
       "      <td>30.0</td>\n",
       "      <td>105.686</td>\n",
       "      <td>134.3722</td>\n",
       "    </tr>\n",
       "    <tr>\n",
       "      <th>2</th>\n",
       "      <td>32</td>\n",
       "      <td>31454</td>\n",
       "      <td>CA-2011-104269</td>\n",
       "      <td>2011-01-03</td>\n",
       "      <td>2011-06-03</td>\n",
       "      <td>Second Class</td>\n",
       "      <td>DB-13060</td>\n",
       "      <td>Dave Brooks</td>\n",
       "      <td>Consumer</td>\n",
       "      <td>Seattle</td>\n",
       "      <td>...</td>\n",
       "      <td>2</td>\n",
       "      <td>0.20</td>\n",
       "      <td>51.4764</td>\n",
       "      <td>47.89</td>\n",
       "      <td>Medium</td>\n",
       "      <td>2011</td>\n",
       "      <td>2011-01</td>\n",
       "      <td>20.0</td>\n",
       "      <td>228.784</td>\n",
       "      <td>203.0458</td>\n",
       "    </tr>\n",
       "    <tr>\n",
       "      <th>3</th>\n",
       "      <td>34</td>\n",
       "      <td>39607</td>\n",
       "      <td>CA-2011-168312</td>\n",
       "      <td>2011-01-03</td>\n",
       "      <td>2011-07-03</td>\n",
       "      <td>Standard Class</td>\n",
       "      <td>GW-14605</td>\n",
       "      <td>Giulietta Weimer</td>\n",
       "      <td>Consumer</td>\n",
       "      <td>Houston</td>\n",
       "      <td>...</td>\n",
       "      <td>3</td>\n",
       "      <td>0.30</td>\n",
       "      <td>-43.0296</td>\n",
       "      <td>32.70</td>\n",
       "      <td>Medium</td>\n",
       "      <td>2011</td>\n",
       "      <td>2011-01</td>\n",
       "      <td>30.0</td>\n",
       "      <td>125.503</td>\n",
       "      <td>139.8462</td>\n",
       "    </tr>\n",
       "    <tr>\n",
       "      <th>4</th>\n",
       "      <td>36</td>\n",
       "      <td>39245</td>\n",
       "      <td>CA-2011-131009</td>\n",
       "      <td>2011-01-03</td>\n",
       "      <td>2011-05-03</td>\n",
       "      <td>Standard Class</td>\n",
       "      <td>SC-20380</td>\n",
       "      <td>Shahid Collister</td>\n",
       "      <td>Consumer</td>\n",
       "      <td>El Paso</td>\n",
       "      <td>...</td>\n",
       "      <td>6</td>\n",
       "      <td>0.30</td>\n",
       "      <td>0.0000</td>\n",
       "      <td>25.22</td>\n",
       "      <td>Medium</td>\n",
       "      <td>2011</td>\n",
       "      <td>2011-01</td>\n",
       "      <td>30.0</td>\n",
       "      <td>60.375</td>\n",
       "      <td>60.3750</td>\n",
       "    </tr>\n",
       "    <tr>\n",
       "      <th>...</th>\n",
       "      <td>...</td>\n",
       "      <td>...</td>\n",
       "      <td>...</td>\n",
       "      <td>...</td>\n",
       "      <td>...</td>\n",
       "      <td>...</td>\n",
       "      <td>...</td>\n",
       "      <td>...</td>\n",
       "      <td>...</td>\n",
       "      <td>...</td>\n",
       "      <td>...</td>\n",
       "      <td>...</td>\n",
       "      <td>...</td>\n",
       "      <td>...</td>\n",
       "      <td>...</td>\n",
       "      <td>...</td>\n",
       "      <td>...</td>\n",
       "      <td>...</td>\n",
       "      <td>...</td>\n",
       "      <td>...</td>\n",
       "      <td>...</td>\n",
       "    </tr>\n",
       "    <tr>\n",
       "      <th>9981</th>\n",
       "      <td>51222</td>\n",
       "      <td>31942</td>\n",
       "      <td>CA-2014-126221</td>\n",
       "      <td>2014-12-31</td>\n",
       "      <td>2015-06-01</td>\n",
       "      <td>Standard Class</td>\n",
       "      <td>CC-12430</td>\n",
       "      <td>Chuck Clark</td>\n",
       "      <td>Home Office</td>\n",
       "      <td>Columbus</td>\n",
       "      <td>...</td>\n",
       "      <td>2</td>\n",
       "      <td>0.00</td>\n",
       "      <td>56.5110</td>\n",
       "      <td>8.32</td>\n",
       "      <td>Medium</td>\n",
       "      <td>2014</td>\n",
       "      <td>2014-12</td>\n",
       "      <td>0.0</td>\n",
       "      <td>104.650</td>\n",
       "      <td>76.3945</td>\n",
       "    </tr>\n",
       "    <tr>\n",
       "      <th>9982</th>\n",
       "      <td>51225</td>\n",
       "      <td>32205</td>\n",
       "      <td>CA-2014-143259</td>\n",
       "      <td>2014-12-31</td>\n",
       "      <td>2015-04-01</td>\n",
       "      <td>Standard Class</td>\n",
       "      <td>PO-18865</td>\n",
       "      <td>Patrick O'Donnell</td>\n",
       "      <td>Consumer</td>\n",
       "      <td>New York City</td>\n",
       "      <td>...</td>\n",
       "      <td>3</td>\n",
       "      <td>0.20</td>\n",
       "      <td>19.7910</td>\n",
       "      <td>7.21</td>\n",
       "      <td>High</td>\n",
       "      <td>2014</td>\n",
       "      <td>2014-12</td>\n",
       "      <td>20.0</td>\n",
       "      <td>17.592</td>\n",
       "      <td>10.9950</td>\n",
       "    </tr>\n",
       "    <tr>\n",
       "      <th>9983</th>\n",
       "      <td>51246</td>\n",
       "      <td>32594</td>\n",
       "      <td>CA-2014-115427</td>\n",
       "      <td>2014-12-31</td>\n",
       "      <td>2015-04-01</td>\n",
       "      <td>Standard Class</td>\n",
       "      <td>EB-13975</td>\n",
       "      <td>Erica Bern</td>\n",
       "      <td>Corporate</td>\n",
       "      <td>Fairfield</td>\n",
       "      <td>...</td>\n",
       "      <td>2</td>\n",
       "      <td>0.20</td>\n",
       "      <td>6.4750</td>\n",
       "      <td>2.06</td>\n",
       "      <td>Medium</td>\n",
       "      <td>2014</td>\n",
       "      <td>2014-12</td>\n",
       "      <td>20.0</td>\n",
       "      <td>10.360</td>\n",
       "      <td>7.1225</td>\n",
       "    </tr>\n",
       "    <tr>\n",
       "      <th>9984</th>\n",
       "      <td>51250</td>\n",
       "      <td>32593</td>\n",
       "      <td>CA-2014-115427</td>\n",
       "      <td>2014-12-31</td>\n",
       "      <td>2015-04-01</td>\n",
       "      <td>Standard Class</td>\n",
       "      <td>EB-13975</td>\n",
       "      <td>Erica Bern</td>\n",
       "      <td>Corporate</td>\n",
       "      <td>Fairfield</td>\n",
       "      <td>...</td>\n",
       "      <td>2</td>\n",
       "      <td>0.20</td>\n",
       "      <td>4.5188</td>\n",
       "      <td>0.89</td>\n",
       "      <td>Medium</td>\n",
       "      <td>2014</td>\n",
       "      <td>2014-12</td>\n",
       "      <td>20.0</td>\n",
       "      <td>6.952</td>\n",
       "      <td>4.6926</td>\n",
       "    </tr>\n",
       "    <tr>\n",
       "      <th>9985</th>\n",
       "      <td>51254</td>\n",
       "      <td>36388</td>\n",
       "      <td>CA-2014-156720</td>\n",
       "      <td>2014-12-31</td>\n",
       "      <td>2015-04-01</td>\n",
       "      <td>Standard Class</td>\n",
       "      <td>JM-15580</td>\n",
       "      <td>Jill Matthias</td>\n",
       "      <td>Consumer</td>\n",
       "      <td>Loveland</td>\n",
       "      <td>...</td>\n",
       "      <td>3</td>\n",
       "      <td>0.20</td>\n",
       "      <td>-0.6048</td>\n",
       "      <td>0.17</td>\n",
       "      <td>Medium</td>\n",
       "      <td>2014</td>\n",
       "      <td>2014-12</td>\n",
       "      <td>20.0</td>\n",
       "      <td>1.008</td>\n",
       "      <td>1.2096</td>\n",
       "    </tr>\n",
       "  </tbody>\n",
       "</table>\n",
       "<p>9871 rows × 30 columns</p>\n",
       "</div>"
      ],
      "text/plain": [
       "      Unnamed: 0  Row ID        Order ID  Order Date   Ship Date  \\\n",
       "0              7   34662  CA-2011-115161  2011-01-02  2011-03-02   \n",
       "1             27   37844  CA-2011-113880  2011-01-03  2011-05-03   \n",
       "2             32   31454  CA-2011-104269  2011-01-03  2011-06-03   \n",
       "3             34   39607  CA-2011-168312  2011-01-03  2011-07-03   \n",
       "4             36   39245  CA-2011-131009  2011-01-03  2011-05-03   \n",
       "...          ...     ...             ...         ...         ...   \n",
       "9981       51222   31942  CA-2014-126221  2014-12-31  2015-06-01   \n",
       "9982       51225   32205  CA-2014-143259  2014-12-31  2015-04-01   \n",
       "9983       51246   32594  CA-2014-115427  2014-12-31  2015-04-01   \n",
       "9984       51250   32593  CA-2014-115427  2014-12-31  2015-04-01   \n",
       "9985       51254   36388  CA-2014-156720  2014-12-31  2015-04-01   \n",
       "\n",
       "           Ship Mode Customer ID      Customer Name      Segment  \\\n",
       "0        First Class    LC-17050       Liz Carlisle     Consumer   \n",
       "1     Standard Class    VF-21715     Vicky Freymann  Home Office   \n",
       "2       Second Class    DB-13060        Dave Brooks     Consumer   \n",
       "3     Standard Class    GW-14605   Giulietta Weimer     Consumer   \n",
       "4     Standard Class    SC-20380   Shahid Collister     Consumer   \n",
       "...              ...         ...                ...          ...   \n",
       "9981  Standard Class    CC-12430        Chuck Clark  Home Office   \n",
       "9982  Standard Class    PO-18865  Patrick O'Donnell     Consumer   \n",
       "9983  Standard Class    EB-13975         Erica Bern    Corporate   \n",
       "9984  Standard Class    EB-13975         Erica Bern    Corporate   \n",
       "9985  Standard Class    JM-15580      Jill Matthias     Consumer   \n",
       "\n",
       "               City  ... Quantity Discount    Profit Shipping Cost  \\\n",
       "0     Mission Viejo  ...        2     0.15    3.4196         54.64   \n",
       "1          Elmhurst  ...        6     0.30 -172.1172         70.05   \n",
       "2           Seattle  ...        2     0.20   51.4764         47.89   \n",
       "3           Houston  ...        3     0.30  -43.0296         32.70   \n",
       "4           El Paso  ...        6     0.30    0.0000         25.22   \n",
       "...             ...  ...      ...      ...       ...           ...   \n",
       "9981       Columbus  ...        2     0.00   56.5110          8.32   \n",
       "9982  New York City  ...        3     0.20   19.7910          7.21   \n",
       "9983      Fairfield  ...        2     0.20    6.4750          2.06   \n",
       "9984      Fairfield  ...        2     0.20    4.5188          0.89   \n",
       "9985       Loveland  ...        3     0.20   -0.6048          0.17   \n",
       "\n",
       "     Order Priority  Year Month_Year Discount_percentage  \\\n",
       "0              High  2011    2011-01                15.0   \n",
       "1              High  2011    2011-01                30.0   \n",
       "2            Medium  2011    2011-01                20.0   \n",
       "3            Medium  2011    2011-01                30.0   \n",
       "4            Medium  2011    2011-01                30.0   \n",
       "...             ...   ...        ...                 ...   \n",
       "9981         Medium  2014    2014-12                 0.0   \n",
       "9982           High  2014    2014-12                20.0   \n",
       "9983         Medium  2014    2014-12                20.0   \n",
       "9984         Medium  2014    2014-12                20.0   \n",
       "9985         Medium  2014    2014-12                20.0   \n",
       "\n",
       "     Selling Price Per Unit  Cost Price Per Unit  \n",
       "0                   145.333             143.6232  \n",
       "1                   105.686             134.3722  \n",
       "2                   228.784             203.0458  \n",
       "3                   125.503             139.8462  \n",
       "4                    60.375              60.3750  \n",
       "...                     ...                  ...  \n",
       "9981                104.650              76.3945  \n",
       "9982                 17.592              10.9950  \n",
       "9983                 10.360               7.1225  \n",
       "9984                  6.952               4.6926  \n",
       "9985                  1.008               1.2096  \n",
       "\n",
       "[9871 rows x 30 columns]"
      ]
     },
     "execution_count": 3,
     "metadata": {},
     "output_type": "execute_result"
    }
   ],
   "source": [
    "# Drop rows where sub-category is equal to copiers and machines \n",
    "df[df['Sub-Category'].str.contains(\"Copiers\") == False]\n",
    "df[df['Sub-Category'].str.contains(\"Machines\") == False]"
   ]
  },
  {
   "cell_type": "code",
   "execution_count": 4,
   "id": "9ea82ce1",
   "metadata": {},
   "outputs": [
    {
     "data": {
      "text/html": [
       "<div>\n",
       "<style scoped>\n",
       "    .dataframe tbody tr th:only-of-type {\n",
       "        vertical-align: middle;\n",
       "    }\n",
       "\n",
       "    .dataframe tbody tr th {\n",
       "        vertical-align: top;\n",
       "    }\n",
       "\n",
       "    .dataframe thead th {\n",
       "        text-align: right;\n",
       "    }\n",
       "</style>\n",
       "<table border=\"1\" class=\"dataframe\">\n",
       "  <thead>\n",
       "    <tr style=\"text-align: right;\">\n",
       "      <th></th>\n",
       "      <th>Shipping Cost</th>\n",
       "    </tr>\n",
       "  </thead>\n",
       "  <tbody>\n",
       "    <tr>\n",
       "      <th>0</th>\n",
       "      <td>54.64</td>\n",
       "    </tr>\n",
       "    <tr>\n",
       "      <th>1</th>\n",
       "      <td>70.05</td>\n",
       "    </tr>\n",
       "    <tr>\n",
       "      <th>2</th>\n",
       "      <td>47.89</td>\n",
       "    </tr>\n",
       "    <tr>\n",
       "      <th>3</th>\n",
       "      <td>32.70</td>\n",
       "    </tr>\n",
       "    <tr>\n",
       "      <th>4</th>\n",
       "      <td>25.22</td>\n",
       "    </tr>\n",
       "  </tbody>\n",
       "</table>\n",
       "</div>"
      ],
      "text/plain": [
       "   Shipping Cost\n",
       "0          54.64\n",
       "1          70.05\n",
       "2          47.89\n",
       "3          32.70\n",
       "4          25.22"
      ]
     },
     "execution_count": 4,
     "metadata": {},
     "output_type": "execute_result"
    }
   ],
   "source": [
    "X = df[[\"Shipping Cost\"]]\n",
    "X.head()"
   ]
  },
  {
   "cell_type": "code",
   "execution_count": 5,
   "id": "249c0c8f",
   "metadata": {},
   "outputs": [],
   "source": [
    "y = df.Sales"
   ]
  },
  {
   "cell_type": "code",
   "execution_count": 6,
   "id": "6e3d9dbc",
   "metadata": {},
   "outputs": [
    {
     "data": {
      "image/png": "[encoded data removed]",
      "text/plain": [
       "<Figure size 432x288 with 1 Axes>"
      ]
     },
     "metadata": {
      "needs_background": "light"
     },
     "output_type": "display_data"
    }
   ],
   "source": [
    "plt.scatter(df[\"Shipping Cost\"], df[\"Sales\"])\n",
    "plt.xlabel(\"Shipping Cost\"),\n",
    "plt.ylabel(\"Sales\")\n",
    "plt.show()"
   ]
  },
  {
   "cell_type": "code",
   "execution_count": 7,
   "id": "96fe0672",
   "metadata": {},
   "outputs": [],
   "source": [
    "# Create a model with scikit-learn\n",
    "model = LinearRegression()"
   ]
  },
  {
   "cell_type": "code",
   "execution_count": 8,
   "id": "ab25e553",
   "metadata": {},
   "outputs": [
    {
     "data": {
      "text/plain": [
       "LinearRegression()"
      ]
     },
     "execution_count": 8,
     "metadata": {},
     "output_type": "execute_result"
    }
   ],
   "source": [
    "# Fit the data into the model\n",
    "# By convention, X is capitalized and y is lowercase\n",
    "model.fit(X, y)"
   ]
  },
  {
   "cell_type": "code",
   "execution_count": 9,
   "id": "537d2187",
   "metadata": {},
   "outputs": [
    {
     "name": "stdout",
     "output_type": "stream",
     "text": [
      "(9986,)\n"
     ]
    }
   ],
   "source": [
    "# The model creates predicted y values based on X values\n",
    "y_pred = model.predict(X)\n",
    "print(y_pred.shape)"
   ]
  },
  {
   "cell_type": "code",
   "execution_count": 10,
   "id": "65318249",
   "metadata": {},
   "outputs": [
    {
     "data": {
      "image/png": "[encoded data removed]",
      "text/plain": [
       "<Figure size 432x288 with 1 Axes>"
      ]
     },
     "metadata": {
      "needs_background": "light"
     },
     "output_type": "display_data"
    }
   ],
   "source": [
    "plt.scatter(X, y)\n",
    "plt.plot(X, y_pred, color='red')\n",
    "plt.show()"
   ]
  },
  {
   "cell_type": "code",
   "execution_count": 11,
   "id": "c23ea8d2",
   "metadata": {},
   "outputs": [
    {
     "name": "stdout",
     "output_type": "stream",
     "text": [
      "[7.16371946]\n",
      "59.24271313567914\n"
     ]
    }
   ],
   "source": [
    "# The slope\n",
    "# The y-intercept\n",
    "print(model.coef_)\n",
    "print(model.intercept_)"
   ]
  },
  {
   "cell_type": "markdown",
   "id": "db00c3ca",
   "metadata": {},
   "source": [
    "# Multiple Linear Regression"
   ]
  },
  {
   "cell_type": "code",
   "execution_count": 12,
   "id": "5970240b",
   "metadata": {},
   "outputs": [],
   "source": [
    "X = df[[\"Segment\",\"Category\",\"Sub-Category\",\"Quantity\",\"Shipping Cost\",\"Profit\",\"Discount\",\"Order Priority\", \"Ship Mode\"]]\n",
    "X = pd.get_dummies(X, columns = [\"Segment\", \"Category\", \"Sub-Category\",\"Order Priority\",\"Ship Mode\"])\n",
    "y = df[\"Sales\"]"
   ]
  },
  {
   "cell_type": "code",
   "execution_count": 13,
   "id": "ce1fcfbc",
   "metadata": {},
   "outputs": [],
   "source": [
    "# importing train_test_split from sklearn\n",
    "from sklearn.model_selection import train_test_split\n",
    "# splitting the data\n",
    "x_train, x_test, y_train, y_test = train_test_split(X, y, test_size = 0.2, random_state = 42)"
   ]
  },
  {
   "cell_type": "code",
   "execution_count": 14,
   "id": "a0cb48de",
   "metadata": {},
   "outputs": [
    {
     "data": {
      "text/plain": [
       "LinearRegression()"
      ]
     },
     "execution_count": 14,
     "metadata": {},
     "output_type": "execute_result"
    }
   ],
   "source": [
    "# importing module\n",
    "from sklearn.linear_model import LinearRegression\n",
    "# creating an object of LinearRegression class\n",
    "LR = LinearRegression()\n",
    "# fitting the training data\n",
    "LR.fit(x_train,y_train)"
   ]
  },
  {
   "cell_type": "code",
   "execution_count": 15,
   "id": "d2ec6f76",
   "metadata": {},
   "outputs": [
    {
     "data": {
      "text/plain": [
       "array([  7.62401622, 272.44967691, -25.80046669, ..., 305.13720323,\n",
       "        51.5548186 ,  43.70039935])"
      ]
     },
     "execution_count": 15,
     "metadata": {},
     "output_type": "execute_result"
    }
   ],
   "source": [
    "y_prediction =  LR.predict(x_test)\n",
    "y_prediction"
   ]
  },
  {
   "cell_type": "code",
   "execution_count": 16,
   "id": "8975abb8",
   "metadata": {},
   "outputs": [
    {
     "name": "stdout",
     "output_type": "stream",
     "text": [
      "0.17771659280115204\n"
     ]
    }
   ],
   "source": [
    "# importing r2_score module\n",
    "from sklearn.metrics import r2_score\n",
    "from sklearn.metrics import mean_squared_error\n",
    "# predicting the accuracy score\n",
    "score=r2_score(y_test,y_prediction)\n",
    "print (score)"
   ]
  },
  {
   "cell_type": "code",
   "execution_count": 17,
   "id": "fcf831b0",
   "metadata": {},
   "outputs": [
    {
     "data": {
      "text/plain": [
       "423605.75610791956"
      ]
     },
     "execution_count": 17,
     "metadata": {},
     "output_type": "execute_result"
    }
   ],
   "source": [
    "# Calculate MSE (mean square error)\n",
    "mean_squared_error(y_test,y_prediction)"
   ]
  },
  {
   "cell_type": "code",
   "execution_count": 18,
   "id": "2aa55db2",
   "metadata": {},
   "outputs": [
    {
     "data": {
      "text/plain": [
       "650.8500258184827"
      ]
     },
     "execution_count": 18,
     "metadata": {},
     "output_type": "execute_result"
    }
   ],
   "source": [
    "# RMSE (root mean square error)\n",
    "import numpy as np\n",
    "np.sqrt(mean_squared_error(y_test,y_prediction))"
   ]
  },
  {
   "cell_type": "markdown",
   "id": "56fc3950",
   "metadata": {},
   "source": [
    "# Multiple Linear Regression with Sales as target"
   ]
  },
  {
   "cell_type": "code",
   "execution_count": 19,
   "id": "90d677e1",
   "metadata": {},
   "outputs": [],
   "source": [
    "X = df[[ \"Shipping Cost\"]]\n",
    "# X = pd.get_dummies(X, columns = [\"Category\"])\n",
    "y = df[\"Sales\"]"
   ]
  },
  {
   "cell_type": "code",
   "execution_count": 20,
   "id": "4296b659",
   "metadata": {},
   "outputs": [],
   "source": [
    "# importing train_test_split from sklearn\n",
    "from sklearn.model_selection import train_test_split\n",
    "# splitting the data\n",
    "x_train, x_test, y_train, y_test = train_test_split(X, y, test_size = 0.2, random_state = 42)"
   ]
  },
  {
   "cell_type": "code",
   "execution_count": 21,
   "id": "e803bfa3",
   "metadata": {},
   "outputs": [
    {
     "data": {
      "text/plain": [
       "LinearRegression()"
      ]
     },
     "execution_count": 21,
     "metadata": {},
     "output_type": "execute_result"
    }
   ],
   "source": [
    "# importing module\n",
    "from sklearn.linear_model import LinearRegression\n",
    "# creating an object of LinearRegression class\n",
    "LR = LinearRegression()\n",
    "# fitting the training data\n",
    "LR.fit(x_train,y_train)"
   ]
  },
  {
   "cell_type": "code",
   "execution_count": 22,
   "id": "66655c34",
   "metadata": {},
   "outputs": [
    {
     "data": {
      "text/plain": [
       "array([ 50.78485138, 148.01701211,  49.3313415 , ..., 301.01805181,\n",
       "        73.42900525,  87.27559935])"
      ]
     },
     "execution_count": 22,
     "metadata": {},
     "output_type": "execute_result"
    }
   ],
   "source": [
    "y_prediction =  LR.predict(x_test)\n",
    "y_prediction"
   ]
  },
  {
   "cell_type": "code",
   "execution_count": 23,
   "id": "d37a14d9",
   "metadata": {},
   "outputs": [
    {
     "name": "stdout",
     "output_type": "stream",
     "text": [
      "0.23905787121950017\n"
     ]
    }
   ],
   "source": [
    "# importing r2_score module\n",
    "from sklearn.metrics import r2_score\n",
    "from sklearn.metrics import mean_squared_error\n",
    "# predicting the accuracy score\n",
    "score=r2_score(y_test,y_prediction)\n",
    "print (score)"
   ]
  },
  {
   "cell_type": "code",
   "execution_count": 24,
   "id": "11ed40f4",
   "metadata": {},
   "outputs": [
    {
     "data": {
      "text/plain": [
       "392005.31470591144"
      ]
     },
     "execution_count": 24,
     "metadata": {},
     "output_type": "execute_result"
    }
   ],
   "source": [
    "# Calculate MSE (mean square error)\n",
    "mean_squared_error(y_test,y_prediction)"
   ]
  },
  {
   "cell_type": "code",
   "execution_count": 25,
   "id": "5bf5166e",
   "metadata": {},
   "outputs": [
    {
     "data": {
      "text/plain": [
       "626.103277986876"
      ]
     },
     "execution_count": 25,
     "metadata": {},
     "output_type": "execute_result"
    }
   ],
   "source": [
    "# RMSE (root mean square error)\n",
    "import numpy as np\n",
    "np.sqrt(mean_squared_error(y_test,y_prediction))"
   ]
  },
  {
   "cell_type": "markdown",
   "id": "a3772e24",
   "metadata": {},
   "source": [
    "# Linear Regression (Sales and Profit)"
   ]
  },
  {
   "cell_type": "code",
   "execution_count": 26,
   "id": "38735df4",
   "metadata": {},
   "outputs": [
    {
     "data": {
      "text/html": [
       "<div>\n",
       "<style scoped>\n",
       "    .dataframe tbody tr th:only-of-type {\n",
       "        vertical-align: middle;\n",
       "    }\n",
       "\n",
       "    .dataframe tbody tr th {\n",
       "        vertical-align: top;\n",
       "    }\n",
       "\n",
       "    .dataframe thead th {\n",
       "        text-align: right;\n",
       "    }\n",
       "</style>\n",
       "<table border=\"1\" class=\"dataframe\">\n",
       "  <thead>\n",
       "    <tr style=\"text-align: right;\">\n",
       "      <th></th>\n",
       "      <th>Sales</th>\n",
       "    </tr>\n",
       "  </thead>\n",
       "  <tbody>\n",
       "    <tr>\n",
       "      <th>0</th>\n",
       "      <td>290.666</td>\n",
       "    </tr>\n",
       "    <tr>\n",
       "      <th>1</th>\n",
       "      <td>634.116</td>\n",
       "    </tr>\n",
       "    <tr>\n",
       "      <th>2</th>\n",
       "      <td>457.568</td>\n",
       "    </tr>\n",
       "    <tr>\n",
       "      <th>3</th>\n",
       "      <td>376.509</td>\n",
       "    </tr>\n",
       "    <tr>\n",
       "      <th>4</th>\n",
       "      <td>362.250</td>\n",
       "    </tr>\n",
       "  </tbody>\n",
       "</table>\n",
       "</div>"
      ],
      "text/plain": [
       "     Sales\n",
       "0  290.666\n",
       "1  634.116\n",
       "2  457.568\n",
       "3  376.509\n",
       "4  362.250"
      ]
     },
     "execution_count": 26,
     "metadata": {},
     "output_type": "execute_result"
    }
   ],
   "source": [
    "X = df[[\"Sales\"]]\n",
    "X.head()"
   ]
  },
  {
   "cell_type": "code",
   "execution_count": 27,
   "id": "31d5bfeb",
   "metadata": {},
   "outputs": [],
   "source": [
    "y = df.Profit"
   ]
  },
  {
   "cell_type": "code",
   "execution_count": 28,
   "id": "d66b5a3a",
   "metadata": {},
   "outputs": [
    {
     "data": {
      "image/png": "[encoded data removed]",
      "text/plain": [
       "<Figure size 432x288 with 1 Axes>"
      ]
     },
     "metadata": {
      "needs_background": "light"
     },
     "output_type": "display_data"
    }
   ],
   "source": [
    "plt.scatter(df[\"Sales\"], df[\"Profit\"])\n",
    "plt.xlabel(\"Sales\"),\n",
    "plt.ylabel(\"Profit\")\n",
    "plt.show()"
   ]
  },
  {
   "cell_type": "code",
   "execution_count": 29,
   "id": "27408730",
   "metadata": {},
   "outputs": [],
   "source": [
    "# Create a model with scikit-learn\n",
    "model = LinearRegression()"
   ]
  },
  {
   "cell_type": "code",
   "execution_count": 30,
   "id": "fd6128e0",
   "metadata": {},
   "outputs": [
    {
     "data": {
      "text/plain": [
       "LinearRegression()"
      ]
     },
     "execution_count": 30,
     "metadata": {},
     "output_type": "execute_result"
    }
   ],
   "source": [
    "# Fit the data into the model\n",
    "# By convention, X is capitalized and y is lowercase\n",
    "model.fit(X, y)"
   ]
  },
  {
   "cell_type": "code",
   "execution_count": 31,
   "id": "8a98dcdd",
   "metadata": {},
   "outputs": [
    {
     "name": "stdout",
     "output_type": "stream",
     "text": [
      "(9986,)\n"
     ]
    }
   ],
   "source": [
    "# The model creates predicted y values based on X values\n",
    "y_pred = model.predict(X)\n",
    "print(y_pred.shape)"
   ]
  },
  {
   "cell_type": "code",
   "execution_count": 32,
   "id": "18276b6f",
   "metadata": {},
   "outputs": [
    {
     "data": {
      "image/png": "[encoded data removed]",
      "text/plain": [
       "<Figure size 432x288 with 1 Axes>"
      ]
     },
     "metadata": {
      "needs_background": "light"
     },
     "output_type": "display_data"
    }
   ],
   "source": [
    "plt.scatter(X, y)\n",
    "plt.plot(X, y_pred, color='red')\n",
    "plt.show()"
   ]
  },
  {
   "cell_type": "code",
   "execution_count": 33,
   "id": "7519e726",
   "metadata": {},
   "outputs": [
    {
     "name": "stdout",
     "output_type": "stream",
     "text": [
      "[0.18006464]\n",
      "-12.751850387260365\n"
     ]
    }
   ],
   "source": [
    "# The slope\n",
    "# The y-intercept\n",
    "print(model.coef_)\n",
    "print(model.intercept_)"
   ]
  },
  {
   "cell_type": "markdown",
   "id": "1a81fe56",
   "metadata": {},
   "source": [
    "## Multiple Linear Regression for all the countries vs sales"
   ]
  },
  {
   "cell_type": "code",
   "execution_count": 4,
   "id": "3f01d8e9",
   "metadata": {},
   "outputs": [
    {
     "data": {
      "text/html": [
       "<div>\n",
       "<style scoped>\n",
       "    .dataframe tbody tr th:only-of-type {\n",
       "        vertical-align: middle;\n",
       "    }\n",
       "\n",
       "    .dataframe tbody tr th {\n",
       "        vertical-align: top;\n",
       "    }\n",
       "\n",
       "    .dataframe thead th {\n",
       "        text-align: right;\n",
       "    }\n",
       "</style>\n",
       "<table border=\"1\" class=\"dataframe\">\n",
       "  <thead>\n",
       "    <tr style=\"text-align: right;\">\n",
       "      <th></th>\n",
       "      <th>Row ID</th>\n",
       "      <th>Order ID</th>\n",
       "      <th>Order Date</th>\n",
       "      <th>Ship Date</th>\n",
       "      <th>Ship Mode</th>\n",
       "      <th>Customer ID</th>\n",
       "      <th>Customer Name</th>\n",
       "      <th>Segment</th>\n",
       "      <th>City</th>\n",
       "      <th>State</th>\n",
       "      <th>...</th>\n",
       "      <th>Quantity</th>\n",
       "      <th>Discount</th>\n",
       "      <th>Profit</th>\n",
       "      <th>Shipping Cost</th>\n",
       "      <th>Order Priority</th>\n",
       "      <th>Year</th>\n",
       "      <th>Month_Year</th>\n",
       "      <th>Discount_percentage</th>\n",
       "      <th>Selling Price Per Unit</th>\n",
       "      <th>Cost Price Per Unit</th>\n",
       "    </tr>\n",
       "  </thead>\n",
       "  <tbody>\n",
       "    <tr>\n",
       "      <th>0</th>\n",
       "      <td>42433</td>\n",
       "      <td>AG-2011-2040</td>\n",
       "      <td>2011-01-01</td>\n",
       "      <td>2011-06-01</td>\n",
       "      <td>Standard Class</td>\n",
       "      <td>TB-11280</td>\n",
       "      <td>Toby Braunhardt</td>\n",
       "      <td>Consumer</td>\n",
       "      <td>Constantine</td>\n",
       "      <td>Constantine</td>\n",
       "      <td>...</td>\n",
       "      <td>2</td>\n",
       "      <td>0.0</td>\n",
       "      <td>106.140</td>\n",
       "      <td>35.46</td>\n",
       "      <td>Medium</td>\n",
       "      <td>2011</td>\n",
       "      <td>2011-01</td>\n",
       "      <td>0.0</td>\n",
       "      <td>204.150</td>\n",
       "      <td>151.08</td>\n",
       "    </tr>\n",
       "    <tr>\n",
       "      <th>1</th>\n",
       "      <td>22253</td>\n",
       "      <td>IN-2011-47883</td>\n",
       "      <td>2011-01-01</td>\n",
       "      <td>2011-08-01</td>\n",
       "      <td>Standard Class</td>\n",
       "      <td>JH-15985</td>\n",
       "      <td>Joseph Holt</td>\n",
       "      <td>Consumer</td>\n",
       "      <td>Wagga Wagga</td>\n",
       "      <td>New South Wales</td>\n",
       "      <td>...</td>\n",
       "      <td>3</td>\n",
       "      <td>0.1</td>\n",
       "      <td>36.036</td>\n",
       "      <td>9.72</td>\n",
       "      <td>Medium</td>\n",
       "      <td>2011</td>\n",
       "      <td>2011-01</td>\n",
       "      <td>10.0</td>\n",
       "      <td>40.122</td>\n",
       "      <td>28.11</td>\n",
       "    </tr>\n",
       "    <tr>\n",
       "      <th>2</th>\n",
       "      <td>48883</td>\n",
       "      <td>HU-2011-1220</td>\n",
       "      <td>2011-01-01</td>\n",
       "      <td>2011-05-01</td>\n",
       "      <td>Second Class</td>\n",
       "      <td>AT-735</td>\n",
       "      <td>Annie Thurman</td>\n",
       "      <td>Consumer</td>\n",
       "      <td>Budapest</td>\n",
       "      <td>Budapest</td>\n",
       "      <td>...</td>\n",
       "      <td>4</td>\n",
       "      <td>0.0</td>\n",
       "      <td>29.640</td>\n",
       "      <td>8.17</td>\n",
       "      <td>High</td>\n",
       "      <td>2011</td>\n",
       "      <td>2011-01</td>\n",
       "      <td>0.0</td>\n",
       "      <td>16.530</td>\n",
       "      <td>9.12</td>\n",
       "    </tr>\n",
       "    <tr>\n",
       "      <th>3</th>\n",
       "      <td>11731</td>\n",
       "      <td>IT-2011-3647632</td>\n",
       "      <td>2011-01-01</td>\n",
       "      <td>2011-05-01</td>\n",
       "      <td>Second Class</td>\n",
       "      <td>EM-14140</td>\n",
       "      <td>Eugene Moren</td>\n",
       "      <td>Home Office</td>\n",
       "      <td>Stockholm</td>\n",
       "      <td>Stockholm</td>\n",
       "      <td>...</td>\n",
       "      <td>3</td>\n",
       "      <td>0.5</td>\n",
       "      <td>-26.055</td>\n",
       "      <td>4.82</td>\n",
       "      <td>High</td>\n",
       "      <td>2011</td>\n",
       "      <td>2011-01</td>\n",
       "      <td>50.0</td>\n",
       "      <td>14.955</td>\n",
       "      <td>23.64</td>\n",
       "    </tr>\n",
       "    <tr>\n",
       "      <th>4</th>\n",
       "      <td>22255</td>\n",
       "      <td>IN-2011-47883</td>\n",
       "      <td>2011-01-01</td>\n",
       "      <td>2011-08-01</td>\n",
       "      <td>Standard Class</td>\n",
       "      <td>JH-15985</td>\n",
       "      <td>Joseph Holt</td>\n",
       "      <td>Consumer</td>\n",
       "      <td>Wagga Wagga</td>\n",
       "      <td>New South Wales</td>\n",
       "      <td>...</td>\n",
       "      <td>5</td>\n",
       "      <td>0.1</td>\n",
       "      <td>37.770</td>\n",
       "      <td>4.70</td>\n",
       "      <td>Medium</td>\n",
       "      <td>2011</td>\n",
       "      <td>2011-01</td>\n",
       "      <td>10.0</td>\n",
       "      <td>22.734</td>\n",
       "      <td>15.18</td>\n",
       "    </tr>\n",
       "  </tbody>\n",
       "</table>\n",
       "<p>5 rows × 28 columns</p>\n",
       "</div>"
      ],
      "text/plain": [
       "   Row ID         Order ID  Order Date   Ship Date       Ship Mode  \\\n",
       "0   42433     AG-2011-2040  2011-01-01  2011-06-01  Standard Class   \n",
       "1   22253    IN-2011-47883  2011-01-01  2011-08-01  Standard Class   \n",
       "2   48883     HU-2011-1220  2011-01-01  2011-05-01    Second Class   \n",
       "3   11731  IT-2011-3647632  2011-01-01  2011-05-01    Second Class   \n",
       "4   22255    IN-2011-47883  2011-01-01  2011-08-01  Standard Class   \n",
       "\n",
       "  Customer ID    Customer Name      Segment         City            State  \\\n",
       "0    TB-11280  Toby Braunhardt     Consumer  Constantine      Constantine   \n",
       "1    JH-15985      Joseph Holt     Consumer  Wagga Wagga  New South Wales   \n",
       "2      AT-735    Annie Thurman     Consumer     Budapest         Budapest   \n",
       "3    EM-14140     Eugene Moren  Home Office    Stockholm        Stockholm   \n",
       "4    JH-15985      Joseph Holt     Consumer  Wagga Wagga  New South Wales   \n",
       "\n",
       "   ... Quantity Discount   Profit Shipping Cost Order Priority  Year  \\\n",
       "0  ...        2      0.0  106.140         35.46         Medium  2011   \n",
       "1  ...        3      0.1   36.036          9.72         Medium  2011   \n",
       "2  ...        4      0.0   29.640          8.17           High  2011   \n",
       "3  ...        3      0.5  -26.055          4.82           High  2011   \n",
       "4  ...        5      0.1   37.770          4.70         Medium  2011   \n",
       "\n",
       "  Month_Year  Discount_percentage  Selling Price Per Unit  Cost Price Per Unit  \n",
       "0    2011-01                  0.0                 204.150               151.08  \n",
       "1    2011-01                 10.0                  40.122                28.11  \n",
       "2    2011-01                  0.0                  16.530                 9.12  \n",
       "3    2011-01                 50.0                  14.955                23.64  \n",
       "4    2011-01                 10.0                  22.734                15.18  \n",
       "\n",
       "[5 rows x 28 columns]"
      ]
     },
     "execution_count": 4,
     "metadata": {},
     "output_type": "execute_result"
    }
   ],
   "source": [
    "# Read csv to a dataframe\n",
    "df = pd.read_csv(Path('Resources/cleaned_superstore_master.csv'), index_col=0)\n",
    "df.head()"
   ]
  },
  {
   "cell_type": "code",
   "execution_count": 5,
   "id": "f3612fd6",
   "metadata": {},
   "outputs": [
    {
     "data": {
      "text/html": [
       "<div>\n",
       "<style scoped>\n",
       "    .dataframe tbody tr th:only-of-type {\n",
       "        vertical-align: middle;\n",
       "    }\n",
       "\n",
       "    .dataframe tbody tr th {\n",
       "        vertical-align: top;\n",
       "    }\n",
       "\n",
       "    .dataframe thead th {\n",
       "        text-align: right;\n",
       "    }\n",
       "</style>\n",
       "<table border=\"1\" class=\"dataframe\">\n",
       "  <thead>\n",
       "    <tr style=\"text-align: right;\">\n",
       "      <th></th>\n",
       "      <th>Row ID</th>\n",
       "      <th>Order ID</th>\n",
       "      <th>Order Date</th>\n",
       "      <th>Ship Date</th>\n",
       "      <th>Ship Mode</th>\n",
       "      <th>Customer ID</th>\n",
       "      <th>Customer Name</th>\n",
       "      <th>Segment</th>\n",
       "      <th>City</th>\n",
       "      <th>State</th>\n",
       "      <th>...</th>\n",
       "      <th>Quantity</th>\n",
       "      <th>Discount</th>\n",
       "      <th>Profit</th>\n",
       "      <th>Shipping Cost</th>\n",
       "      <th>Order Priority</th>\n",
       "      <th>Year</th>\n",
       "      <th>Month_Year</th>\n",
       "      <th>Discount_percentage</th>\n",
       "      <th>Selling Price Per Unit</th>\n",
       "      <th>Cost Price Per Unit</th>\n",
       "    </tr>\n",
       "  </thead>\n",
       "  <tbody>\n",
       "    <tr>\n",
       "      <th>0</th>\n",
       "      <td>42433</td>\n",
       "      <td>AG-2011-2040</td>\n",
       "      <td>2011-01-01</td>\n",
       "      <td>2011-06-01</td>\n",
       "      <td>Standard Class</td>\n",
       "      <td>TB-11280</td>\n",
       "      <td>Toby Braunhardt</td>\n",
       "      <td>Consumer</td>\n",
       "      <td>Constantine</td>\n",
       "      <td>Constantine</td>\n",
       "      <td>...</td>\n",
       "      <td>2</td>\n",
       "      <td>0.0</td>\n",
       "      <td>106.1400</td>\n",
       "      <td>35.46</td>\n",
       "      <td>Medium</td>\n",
       "      <td>2011</td>\n",
       "      <td>2011-01</td>\n",
       "      <td>0.0</td>\n",
       "      <td>204.150</td>\n",
       "      <td>151.0800</td>\n",
       "    </tr>\n",
       "    <tr>\n",
       "      <th>1</th>\n",
       "      <td>22253</td>\n",
       "      <td>IN-2011-47883</td>\n",
       "      <td>2011-01-01</td>\n",
       "      <td>2011-08-01</td>\n",
       "      <td>Standard Class</td>\n",
       "      <td>JH-15985</td>\n",
       "      <td>Joseph Holt</td>\n",
       "      <td>Consumer</td>\n",
       "      <td>Wagga Wagga</td>\n",
       "      <td>New South Wales</td>\n",
       "      <td>...</td>\n",
       "      <td>3</td>\n",
       "      <td>0.1</td>\n",
       "      <td>36.0360</td>\n",
       "      <td>9.72</td>\n",
       "      <td>Medium</td>\n",
       "      <td>2011</td>\n",
       "      <td>2011-01</td>\n",
       "      <td>10.0</td>\n",
       "      <td>40.122</td>\n",
       "      <td>28.1100</td>\n",
       "    </tr>\n",
       "    <tr>\n",
       "      <th>2</th>\n",
       "      <td>48883</td>\n",
       "      <td>HU-2011-1220</td>\n",
       "      <td>2011-01-01</td>\n",
       "      <td>2011-05-01</td>\n",
       "      <td>Second Class</td>\n",
       "      <td>AT-735</td>\n",
       "      <td>Annie Thurman</td>\n",
       "      <td>Consumer</td>\n",
       "      <td>Budapest</td>\n",
       "      <td>Budapest</td>\n",
       "      <td>...</td>\n",
       "      <td>4</td>\n",
       "      <td>0.0</td>\n",
       "      <td>29.6400</td>\n",
       "      <td>8.17</td>\n",
       "      <td>High</td>\n",
       "      <td>2011</td>\n",
       "      <td>2011-01</td>\n",
       "      <td>0.0</td>\n",
       "      <td>16.530</td>\n",
       "      <td>9.1200</td>\n",
       "    </tr>\n",
       "    <tr>\n",
       "      <th>3</th>\n",
       "      <td>11731</td>\n",
       "      <td>IT-2011-3647632</td>\n",
       "      <td>2011-01-01</td>\n",
       "      <td>2011-05-01</td>\n",
       "      <td>Second Class</td>\n",
       "      <td>EM-14140</td>\n",
       "      <td>Eugene Moren</td>\n",
       "      <td>Home Office</td>\n",
       "      <td>Stockholm</td>\n",
       "      <td>Stockholm</td>\n",
       "      <td>...</td>\n",
       "      <td>3</td>\n",
       "      <td>0.5</td>\n",
       "      <td>-26.0550</td>\n",
       "      <td>4.82</td>\n",
       "      <td>High</td>\n",
       "      <td>2011</td>\n",
       "      <td>2011-01</td>\n",
       "      <td>50.0</td>\n",
       "      <td>14.955</td>\n",
       "      <td>23.6400</td>\n",
       "    </tr>\n",
       "    <tr>\n",
       "      <th>4</th>\n",
       "      <td>22255</td>\n",
       "      <td>IN-2011-47883</td>\n",
       "      <td>2011-01-01</td>\n",
       "      <td>2011-08-01</td>\n",
       "      <td>Standard Class</td>\n",
       "      <td>JH-15985</td>\n",
       "      <td>Joseph Holt</td>\n",
       "      <td>Consumer</td>\n",
       "      <td>Wagga Wagga</td>\n",
       "      <td>New South Wales</td>\n",
       "      <td>...</td>\n",
       "      <td>5</td>\n",
       "      <td>0.1</td>\n",
       "      <td>37.7700</td>\n",
       "      <td>4.70</td>\n",
       "      <td>Medium</td>\n",
       "      <td>2011</td>\n",
       "      <td>2011-01</td>\n",
       "      <td>10.0</td>\n",
       "      <td>22.734</td>\n",
       "      <td>15.1800</td>\n",
       "    </tr>\n",
       "    <tr>\n",
       "      <th>...</th>\n",
       "      <td>...</td>\n",
       "      <td>...</td>\n",
       "      <td>...</td>\n",
       "      <td>...</td>\n",
       "      <td>...</td>\n",
       "      <td>...</td>\n",
       "      <td>...</td>\n",
       "      <td>...</td>\n",
       "      <td>...</td>\n",
       "      <td>...</td>\n",
       "      <td>...</td>\n",
       "      <td>...</td>\n",
       "      <td>...</td>\n",
       "      <td>...</td>\n",
       "      <td>...</td>\n",
       "      <td>...</td>\n",
       "      <td>...</td>\n",
       "      <td>...</td>\n",
       "      <td>...</td>\n",
       "      <td>...</td>\n",
       "      <td>...</td>\n",
       "    </tr>\n",
       "    <tr>\n",
       "      <th>51250</th>\n",
       "      <td>32593</td>\n",
       "      <td>CA-2014-115427</td>\n",
       "      <td>2014-12-31</td>\n",
       "      <td>2015-04-01</td>\n",
       "      <td>Standard Class</td>\n",
       "      <td>EB-13975</td>\n",
       "      <td>Erica Bern</td>\n",
       "      <td>Corporate</td>\n",
       "      <td>Fairfield</td>\n",
       "      <td>California</td>\n",
       "      <td>...</td>\n",
       "      <td>2</td>\n",
       "      <td>0.2</td>\n",
       "      <td>4.5188</td>\n",
       "      <td>0.89</td>\n",
       "      <td>Medium</td>\n",
       "      <td>2014</td>\n",
       "      <td>2014-12</td>\n",
       "      <td>20.0</td>\n",
       "      <td>6.952</td>\n",
       "      <td>4.6926</td>\n",
       "    </tr>\n",
       "    <tr>\n",
       "      <th>51251</th>\n",
       "      <td>47594</td>\n",
       "      <td>MO-2014-2560</td>\n",
       "      <td>2014-12-31</td>\n",
       "      <td>2015-05-01</td>\n",
       "      <td>Standard Class</td>\n",
       "      <td>LP-7095</td>\n",
       "      <td>Liz Preis</td>\n",
       "      <td>Consumer</td>\n",
       "      <td>Agadir</td>\n",
       "      <td>Souss-Massa-Draâ</td>\n",
       "      <td>...</td>\n",
       "      <td>1</td>\n",
       "      <td>0.0</td>\n",
       "      <td>0.4200</td>\n",
       "      <td>0.49</td>\n",
       "      <td>Medium</td>\n",
       "      <td>2014</td>\n",
       "      <td>2014-12</td>\n",
       "      <td>0.0</td>\n",
       "      <td>3.990</td>\n",
       "      <td>3.5700</td>\n",
       "    </tr>\n",
       "    <tr>\n",
       "      <th>51252</th>\n",
       "      <td>8857</td>\n",
       "      <td>MX-2014-110527</td>\n",
       "      <td>2014-12-31</td>\n",
       "      <td>2015-02-01</td>\n",
       "      <td>Second Class</td>\n",
       "      <td>CM-12190</td>\n",
       "      <td>Charlotte Melton</td>\n",
       "      <td>Consumer</td>\n",
       "      <td>Managua</td>\n",
       "      <td>Managua</td>\n",
       "      <td>...</td>\n",
       "      <td>3</td>\n",
       "      <td>0.0</td>\n",
       "      <td>12.3600</td>\n",
       "      <td>0.35</td>\n",
       "      <td>Medium</td>\n",
       "      <td>2014</td>\n",
       "      <td>2014-12</td>\n",
       "      <td>0.0</td>\n",
       "      <td>8.800</td>\n",
       "      <td>4.6800</td>\n",
       "    </tr>\n",
       "    <tr>\n",
       "      <th>51253</th>\n",
       "      <td>6852</td>\n",
       "      <td>MX-2014-114783</td>\n",
       "      <td>2014-12-31</td>\n",
       "      <td>2015-06-01</td>\n",
       "      <td>Standard Class</td>\n",
       "      <td>TD-20995</td>\n",
       "      <td>Tamara Dahlen</td>\n",
       "      <td>Consumer</td>\n",
       "      <td>Juárez</td>\n",
       "      <td>Chihuahua</td>\n",
       "      <td>...</td>\n",
       "      <td>1</td>\n",
       "      <td>0.0</td>\n",
       "      <td>0.5600</td>\n",
       "      <td>0.20</td>\n",
       "      <td>Medium</td>\n",
       "      <td>2014</td>\n",
       "      <td>2014-12</td>\n",
       "      <td>0.0</td>\n",
       "      <td>7.120</td>\n",
       "      <td>6.5600</td>\n",
       "    </tr>\n",
       "    <tr>\n",
       "      <th>51254</th>\n",
       "      <td>36388</td>\n",
       "      <td>CA-2014-156720</td>\n",
       "      <td>2014-12-31</td>\n",
       "      <td>2015-04-01</td>\n",
       "      <td>Standard Class</td>\n",
       "      <td>JM-15580</td>\n",
       "      <td>Jill Matthias</td>\n",
       "      <td>Consumer</td>\n",
       "      <td>Loveland</td>\n",
       "      <td>Colorado</td>\n",
       "      <td>...</td>\n",
       "      <td>3</td>\n",
       "      <td>0.2</td>\n",
       "      <td>-0.6048</td>\n",
       "      <td>0.17</td>\n",
       "      <td>Medium</td>\n",
       "      <td>2014</td>\n",
       "      <td>2014-12</td>\n",
       "      <td>20.0</td>\n",
       "      <td>1.008</td>\n",
       "      <td>1.2096</td>\n",
       "    </tr>\n",
       "  </tbody>\n",
       "</table>\n",
       "<p>49770 rows × 28 columns</p>\n",
       "</div>"
      ],
      "text/plain": [
       "       Row ID         Order ID  Order Date   Ship Date       Ship Mode  \\\n",
       "0       42433     AG-2011-2040  2011-01-01  2011-06-01  Standard Class   \n",
       "1       22253    IN-2011-47883  2011-01-01  2011-08-01  Standard Class   \n",
       "2       48883     HU-2011-1220  2011-01-01  2011-05-01    Second Class   \n",
       "3       11731  IT-2011-3647632  2011-01-01  2011-05-01    Second Class   \n",
       "4       22255    IN-2011-47883  2011-01-01  2011-08-01  Standard Class   \n",
       "...       ...              ...         ...         ...             ...   \n",
       "51250   32593   CA-2014-115427  2014-12-31  2015-04-01  Standard Class   \n",
       "51251   47594     MO-2014-2560  2014-12-31  2015-05-01  Standard Class   \n",
       "51252    8857   MX-2014-110527  2014-12-31  2015-02-01    Second Class   \n",
       "51253    6852   MX-2014-114783  2014-12-31  2015-06-01  Standard Class   \n",
       "51254   36388   CA-2014-156720  2014-12-31  2015-04-01  Standard Class   \n",
       "\n",
       "      Customer ID     Customer Name      Segment         City  \\\n",
       "0        TB-11280   Toby Braunhardt     Consumer  Constantine   \n",
       "1        JH-15985       Joseph Holt     Consumer  Wagga Wagga   \n",
       "2          AT-735     Annie Thurman     Consumer     Budapest   \n",
       "3        EM-14140      Eugene Moren  Home Office    Stockholm   \n",
       "4        JH-15985       Joseph Holt     Consumer  Wagga Wagga   \n",
       "...           ...               ...          ...          ...   \n",
       "51250    EB-13975        Erica Bern    Corporate    Fairfield   \n",
       "51251     LP-7095         Liz Preis     Consumer       Agadir   \n",
       "51252    CM-12190  Charlotte Melton     Consumer      Managua   \n",
       "51253    TD-20995     Tamara Dahlen     Consumer       Juárez   \n",
       "51254    JM-15580     Jill Matthias     Consumer     Loveland   \n",
       "\n",
       "                  State  ... Quantity Discount    Profit Shipping Cost  \\\n",
       "0           Constantine  ...        2      0.0  106.1400         35.46   \n",
       "1       New South Wales  ...        3      0.1   36.0360          9.72   \n",
       "2              Budapest  ...        4      0.0   29.6400          8.17   \n",
       "3             Stockholm  ...        3      0.5  -26.0550          4.82   \n",
       "4       New South Wales  ...        5      0.1   37.7700          4.70   \n",
       "...                 ...  ...      ...      ...       ...           ...   \n",
       "51250        California  ...        2      0.2    4.5188          0.89   \n",
       "51251  Souss-Massa-Draâ  ...        1      0.0    0.4200          0.49   \n",
       "51252           Managua  ...        3      0.0   12.3600          0.35   \n",
       "51253         Chihuahua  ...        1      0.0    0.5600          0.20   \n",
       "51254          Colorado  ...        3      0.2   -0.6048          0.17   \n",
       "\n",
       "      Order Priority  Year Month_Year  Discount_percentage  \\\n",
       "0             Medium  2011    2011-01                  0.0   \n",
       "1             Medium  2011    2011-01                 10.0   \n",
       "2               High  2011    2011-01                  0.0   \n",
       "3               High  2011    2011-01                 50.0   \n",
       "4             Medium  2011    2011-01                 10.0   \n",
       "...              ...   ...        ...                  ...   \n",
       "51250         Medium  2014    2014-12                 20.0   \n",
       "51251         Medium  2014    2014-12                  0.0   \n",
       "51252         Medium  2014    2014-12                  0.0   \n",
       "51253         Medium  2014    2014-12                  0.0   \n",
       "51254         Medium  2014    2014-12                 20.0   \n",
       "\n",
       "       Selling Price Per Unit  Cost Price Per Unit  \n",
       "0                     204.150             151.0800  \n",
       "1                      40.122              28.1100  \n",
       "2                      16.530               9.1200  \n",
       "3                      14.955              23.6400  \n",
       "4                      22.734              15.1800  \n",
       "...                       ...                  ...  \n",
       "51250                   6.952               4.6926  \n",
       "51251                   3.990               3.5700  \n",
       "51252                   8.800               4.6800  \n",
       "51253                   7.120               6.5600  \n",
       "51254                   1.008               1.2096  \n",
       "\n",
       "[49770 rows x 28 columns]"
      ]
     },
     "execution_count": 5,
     "metadata": {},
     "output_type": "execute_result"
    }
   ],
   "source": [
    "# Drop rows where sub-category is equal to copiers and machines \n",
    "df[df['Sub-Category'].str.contains(\"Copiers\") == False]\n",
    "df[df['Sub-Category'].str.contains(\"Machines\") == False]"
   ]
  },
  {
   "cell_type": "code",
   "execution_count": 27,
   "id": "5d5a4615",
   "metadata": {},
   "outputs": [],
   "source": [
    "X = df[[\"Segment\",\"Category\",\"Sub-Category\",\"Market\", \"Region\",\"Shipping Cost\",\"Country\",\"Discount\",\"Profit\",\"Quantity\",\"Order Priority\", \"Ship Mode\"]]\n",
    "X = pd.get_dummies(X, columns = [\"Segment\", \"Category\", \"Sub-Category\",\"Market\",\"Country\",\"Region\",\"Order Priority\",\"Ship Mode\"])\n",
    "y = df[\"Sales\"]"
   ]
  },
  {
   "cell_type": "code",
   "execution_count": 28,
   "id": "bc0b6bb1",
   "metadata": {},
   "outputs": [
    {
     "data": {
      "text/plain": [
       "(51255, 202)"
      ]
     },
     "execution_count": 28,
     "metadata": {},
     "output_type": "execute_result"
    }
   ],
   "source": [
    "X.shape"
   ]
  },
  {
   "cell_type": "code",
   "execution_count": 21,
   "id": "f1bec84c",
   "metadata": {},
   "outputs": [],
   "source": [
    "# importing train_test_split from sklearn\n",
    "from sklearn.model_selection import train_test_split\n",
    "# splitting the data\n",
    "x_train, x_test, y_train, y_test = train_test_split(X, y, test_size = 0.2, random_state = 42)\n",
    "from sklearn.preprocessing import StandardScaler\n",
    "# Create a StandardScaler instance\n",
    "scaler = StandardScaler()\n",
    "\n",
    "# Fit the StandardScaler\n",
    "x_scaler = scaler.fit(x_train)\n",
    "\n",
    "# Scale the data\n",
    "x_train_scaled = x_scaler.transform(x_train)\n",
    "x_test_scaled = x_scaler.transform(x_test)"
   ]
  },
  {
   "cell_type": "code",
   "execution_count": 11,
   "id": "17d2fd4c",
   "metadata": {},
   "outputs": [
    {
     "data": {
      "text/plain": [
       "LinearRegression()"
      ]
     },
     "execution_count": 11,
     "metadata": {},
     "output_type": "execute_result"
    }
   ],
   "source": [
    "# importing module\n",
    "from sklearn.linear_model import LinearRegression\n",
    "# creating an object of LinearRegression class\n",
    "LR = LinearRegression()\n",
    "# fitting the training data\n",
    "LR.fit(x_train_scaled,y_train)"
   ]
  },
  {
   "cell_type": "code",
   "execution_count": 22,
   "id": "f955fcf7",
   "metadata": {},
   "outputs": [
    {
     "name": "stderr",
     "output_type": "stream",
     "text": [
      "C:\\Users\\Administrator\\anaconda3\\envs\\mlenv\\lib\\site-packages\\sklearn\\base.py:446: UserWarning: X does not have valid feature names, but LinearRegression was fitted with feature names\n",
      "  \"X does not have valid feature names, but\"\n"
     ]
    },
    {
     "data": {
      "text/plain": [
       "-1.9000183061376643"
      ]
     },
     "execution_count": 22,
     "metadata": {},
     "output_type": "execute_result"
    }
   ],
   "source": [
    "r2_score(y_train, LR.predict(x_train_scaled))"
   ]
  },
  {
   "cell_type": "code",
   "execution_count": 23,
   "id": "b1c36d59",
   "metadata": {},
   "outputs": [
    {
     "data": {
      "text/plain": [
       "array([ 245.0629411 ,  643.18987283,   10.99338806, ...,   -4.02836063,\n",
       "       -148.24190841,  281.93623889])"
      ]
     },
     "execution_count": 23,
     "metadata": {},
     "output_type": "execute_result"
    }
   ],
   "source": [
    "y_prediction =  LR.predict(x_test)\n",
    "y_prediction"
   ]
  },
  {
   "cell_type": "code",
   "execution_count": 25,
   "id": "aacc864d",
   "metadata": {},
   "outputs": [
    {
     "name": "stdout",
     "output_type": "stream",
     "text": [
      "0.7382652933365476\n"
     ]
    }
   ],
   "source": [
    "# importing r2_score module\n",
    "from sklearn.metrics import r2_score\n",
    "from sklearn.metrics import mean_squared_error, mean_absolute_error\n",
    "# predicting the accuracy score\n",
    "score=r2_score(y_test,y_prediction)\n",
    "print (score)"
   ]
  },
  {
   "cell_type": "code",
   "execution_count": 17,
   "id": "215b71ef",
   "metadata": {},
   "outputs": [
    {
     "data": {
      "text/plain": [
       "110.40160440047804"
      ]
     },
     "execution_count": 17,
     "metadata": {},
     "output_type": "execute_result"
    }
   ],
   "source": [
    "# Calculate MSE (mean square error)\n",
    "mean_absolute_error(y_test,y_prediction)"
   ]
  }
 ],
 "metadata": {
  "kernelspec": {
   "display_name": "mlenv",
   "language": "python",
   "name": "mlenv"
  },
  "language_info": {
   "codemirror_mode": {
    "name": "ipython",
    "version": 3
   },
   "file_extension": ".py",
   "mimetype": "text/x-python",
   "name": "python",
   "nbconvert_exporter": "python",
   "pygments_lexer": "ipython3",
   "version": "3.7.13"
  }
 },
 "nbformat": 4,
 "nbformat_minor": 5
}
